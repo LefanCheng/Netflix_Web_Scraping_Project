{
 "cells": [
  {
   "attachments": {},
   "cell_type": "markdown",
   "metadata": {},
   "source": [
    "#### Packages importing and file reading"
   ]
  },
  {
   "cell_type": "code",
   "execution_count": 16,
   "metadata": {},
   "outputs": [],
   "source": [
    "import numpy as np\n",
    "import pandas as pd\n",
    "import datetime as dt\n",
    "import seaborn as sns\n",
    "import re\n",
    "from matplotlib import pyplot as plt\n",
    "from matplotlib.pyplot import figure\n",
    "plt.style.use('ggplot')"
   ]
  },
  {
   "cell_type": "code",
   "execution_count": 17,
   "metadata": {},
   "outputs": [],
   "source": [
    "imbd = pd.read_csv('imbd.csv')\n",
    "netflix_film = pd.read_csv('netflix_film.csv')\n",
    "netflix = pd.read_csv('netflix.csv')\n",
    "membership = pd.read_csv('membership.csv')"
   ]
  },
  {
   "attachments": {},
   "cell_type": "markdown",
   "metadata": {},
   "source": [
    "#### A glance of datasets"
   ]
  },
  {
   "cell_type": "code",
   "execution_count": 18,
   "metadata": {},
   "outputs": [
    {
     "name": "stdout",
     "output_type": "stream",
     "text": [
      "(2743, 4)\n",
      "(1402, 8)\n",
      "(723, 6)\n",
      "(30, 5)\n"
     ]
    }
   ],
   "source": [
    "print(imbd.shape)\n",
    "print(netflix.shape)\n",
    "print(netflix_film.shape)\n",
    "print(membership.shape)"
   ]
  },
  {
   "cell_type": "code",
   "execution_count": 19,
   "metadata": {},
   "outputs": [
    {
     "data": {
      "text/html": [
       "<div>\n",
       "<style scoped>\n",
       "    .dataframe tbody tr th:only-of-type {\n",
       "        vertical-align: middle;\n",
       "    }\n",
       "\n",
       "    .dataframe tbody tr th {\n",
       "        vertical-align: top;\n",
       "    }\n",
       "\n",
       "    .dataframe thead th {\n",
       "        text-align: right;\n",
       "    }\n",
       "</style>\n",
       "<table border=\"1\" class=\"dataframe\">\n",
       "  <thead>\n",
       "    <tr style=\"text-align: right;\">\n",
       "      <th></th>\n",
       "      <th>avg_rating</th>\n",
       "      <th>num_reviews</th>\n",
       "      <th>rating_count</th>\n",
       "      <th>title</th>\n",
       "    </tr>\n",
       "  </thead>\n",
       "  <tbody>\n",
       "    <tr>\n",
       "      <th>250</th>\n",
       "      <td>8.2</td>\n",
       "      <td>11</td>\n",
       "      <td>1,601</td>\n",
       "      <td>Bobby Robson: More Than a Manager</td>\n",
       "    </tr>\n",
       "    <tr>\n",
       "      <th>1472</th>\n",
       "      <td>9.4</td>\n",
       "      <td>5</td>\n",
       "      <td>3,688</td>\n",
       "      <td>Ghosts</td>\n",
       "    </tr>\n",
       "    <tr>\n",
       "      <th>2362</th>\n",
       "      <td>4.7</td>\n",
       "      <td>26</td>\n",
       "      <td>1,409</td>\n",
       "      <td>The Hard Way</td>\n",
       "    </tr>\n",
       "  </tbody>\n",
       "</table>\n",
       "</div>"
      ],
      "text/plain": [
       "      avg_rating  num_reviews rating_count                              title\n",
       "250          8.2           11        1,601  Bobby Robson: More Than a Manager\n",
       "1472         9.4            5        3,688                             Ghosts\n",
       "2362         4.7           26        1,409                       The Hard Way"
      ]
     },
     "execution_count": 19,
     "metadata": {},
     "output_type": "execute_result"
    }
   ],
   "source": [
    "imbd.sample(3)"
   ]
  },
  {
   "cell_type": "code",
   "execution_count": 20,
   "metadata": {},
   "outputs": [
    {
     "data": {
      "text/html": [
       "<div>\n",
       "<style scoped>\n",
       "    .dataframe tbody tr th:only-of-type {\n",
       "        vertical-align: middle;\n",
       "    }\n",
       "\n",
       "    .dataframe tbody tr th {\n",
       "        vertical-align: top;\n",
       "    }\n",
       "\n",
       "    .dataframe thead th {\n",
       "        text-align: right;\n",
       "    }\n",
       "</style>\n",
       "<table border=\"1\" class=\"dataframe\">\n",
       "  <thead>\n",
       "    <tr style=\"text-align: right;\">\n",
       "      <th></th>\n",
       "      <th>distribution</th>\n",
       "      <th>genre</th>\n",
       "      <th>language</th>\n",
       "      <th>length</th>\n",
       "      <th>premiere</th>\n",
       "      <th>title</th>\n",
       "    </tr>\n",
       "  </thead>\n",
       "  <tbody>\n",
       "    <tr>\n",
       "      <th>601</th>\n",
       "      <td>original film</td>\n",
       "      <td>Thriller</td>\n",
       "      <td>Worldwide except Hong Kong, India, Japan, Sing...</td>\n",
       "      <td>1 hour, 55 min.</td>\n",
       "      <td>NaN</td>\n",
       "      <td>Sara's Notebook</td>\n",
       "    </tr>\n",
       "    <tr>\n",
       "      <th>331</th>\n",
       "      <td>original film</td>\n",
       "      <td>Animation/Fantasy</td>\n",
       "      <td>2022\\n</td>\n",
       "      <td>NaN</td>\n",
       "      <td>NaN</td>\n",
       "      <td>NaN</td>\n",
       "    </tr>\n",
       "    <tr>\n",
       "      <th>478</th>\n",
       "      <td>original film</td>\n",
       "      <td>Ava DuVernay/Buddy film</td>\n",
       "      <td>TBA\\n</td>\n",
       "      <td>NaN</td>\n",
       "      <td>NaN</td>\n",
       "      <td>NaN</td>\n",
       "    </tr>\n",
       "  </tbody>\n",
       "</table>\n",
       "</div>"
      ],
      "text/plain": [
       "      distribution                    genre  \\\n",
       "601  original film                 Thriller   \n",
       "331  original film        Animation/Fantasy   \n",
       "478  original film  Ava DuVernay/Buddy film   \n",
       "\n",
       "                                              language           length  \\\n",
       "601  Worldwide except Hong Kong, India, Japan, Sing...  1 hour, 55 min.   \n",
       "331                                             2022\\n              NaN   \n",
       "478                                              TBA\\n              NaN   \n",
       "\n",
       "    premiere            title  \n",
       "601      NaN  Sara's Notebook  \n",
       "331      NaN              NaN  \n",
       "478      NaN              NaN  "
      ]
     },
     "execution_count": 20,
     "metadata": {},
     "output_type": "execute_result"
    }
   ],
   "source": [
    "netflix_film.sample(3)"
   ]
  },
  {
   "cell_type": "code",
   "execution_count": 21,
   "metadata": {},
   "outputs": [
    {
     "data": {
      "text/html": [
       "<div>\n",
       "<style scoped>\n",
       "    .dataframe tbody tr th:only-of-type {\n",
       "        vertical-align: middle;\n",
       "    }\n",
       "\n",
       "    .dataframe tbody tr th {\n",
       "        vertical-align: top;\n",
       "    }\n",
       "\n",
       "    .dataframe thead th {\n",
       "        text-align: right;\n",
       "    }\n",
       "</style>\n",
       "<table border=\"1\" class=\"dataframe\">\n",
       "  <thead>\n",
       "    <tr style=\"text-align: right;\">\n",
       "      <th></th>\n",
       "      <th>episodes</th>\n",
       "      <th>genre</th>\n",
       "      <th>language</th>\n",
       "      <th>length</th>\n",
       "      <th>premiere</th>\n",
       "      <th>seasons</th>\n",
       "      <th>status</th>\n",
       "      <th>title</th>\n",
       "    </tr>\n",
       "  </thead>\n",
       "  <tbody>\n",
       "    <tr>\n",
       "      <th>747</th>\n",
       "      <td>NaN</td>\n",
       "      <td>Discovery</td>\n",
       "      <td>English</td>\n",
       "      <td>43–52 min.</td>\n",
       "      <td>NaN</td>\n",
       "      <td>NaN</td>\n",
       "      <td>Pending\\n</td>\n",
       "      <td>Frontier</td>\n",
       "    </tr>\n",
       "    <tr>\n",
       "      <th>411</th>\n",
       "      <td>7</td>\n",
       "      <td>Period drama</td>\n",
       "      <td>English</td>\n",
       "      <td>35–56 min.</td>\n",
       "      <td>March 22, 2019</td>\n",
       "      <td>1</td>\n",
       "      <td>Renewed</td>\n",
       "      <td>Most Beautiful Thing</td>\n",
       "    </tr>\n",
       "    <tr>\n",
       "      <th>557</th>\n",
       "      <td>NaN</td>\n",
       "      <td>Comedy</td>\n",
       "      <td>English</td>\n",
       "      <td>23–53 min.</td>\n",
       "      <td>2018-05-30</td>\n",
       "      <td>4</td>\n",
       "      <td>Ended</td>\n",
       "      <td>Unbreakable Kimmy Schmidt</td>\n",
       "    </tr>\n",
       "  </tbody>\n",
       "</table>\n",
       "</div>"
      ],
      "text/plain": [
       "    episodes         genre language      length        premiere seasons  \\\n",
       "747      NaN     Discovery  English  43–52 min.             NaN     NaN   \n",
       "411        7  Period drama  English  35–56 min.  March 22, 2019       1   \n",
       "557      NaN        Comedy  English  23–53 min.      2018-05-30       4   \n",
       "\n",
       "        status                      title  \n",
       "747  Pending\\n                   Frontier  \n",
       "411    Renewed       Most Beautiful Thing  \n",
       "557      Ended  Unbreakable Kimmy Schmidt  "
      ]
     },
     "execution_count": 21,
     "metadata": {},
     "output_type": "execute_result"
    }
   ],
   "source": [
    "netflix.sample(3)"
   ]
  },
  {
   "cell_type": "code",
   "execution_count": 22,
   "metadata": {},
   "outputs": [
    {
     "data": {
      "text/html": [
       "<div>\n",
       "<style scoped>\n",
       "    .dataframe tbody tr th:only-of-type {\n",
       "        vertical-align: middle;\n",
       "    }\n",
       "\n",
       "    .dataframe tbody tr th {\n",
       "        vertical-align: top;\n",
       "    }\n",
       "\n",
       "    .dataframe thead th {\n",
       "        text-align: right;\n",
       "    }\n",
       "</style>\n",
       "<table border=\"1\" class=\"dataframe\">\n",
       "  <thead>\n",
       "    <tr style=\"text-align: right;\">\n",
       "      <th></th>\n",
       "      <th>Unnamed: 0</th>\n",
       "      <th>year</th>\n",
       "      <th>quarter</th>\n",
       "      <th>paid_membership</th>\n",
       "      <th>quarter_revenue</th>\n",
       "    </tr>\n",
       "  </thead>\n",
       "  <tbody>\n",
       "    <tr>\n",
       "      <th>21</th>\n",
       "      <td>21</td>\n",
       "      <td>2017</td>\n",
       "      <td>2</td>\n",
       "      <td>99.04</td>\n",
       "      <td>2785.0</td>\n",
       "    </tr>\n",
       "    <tr>\n",
       "      <th>28</th>\n",
       "      <td>28</td>\n",
       "      <td>2019</td>\n",
       "      <td>1</td>\n",
       "      <td>148.86</td>\n",
       "      <td>4521.0</td>\n",
       "    </tr>\n",
       "    <tr>\n",
       "      <th>10</th>\n",
       "      <td>10</td>\n",
       "      <td>2014</td>\n",
       "      <td>3</td>\n",
       "      <td>50.65</td>\n",
       "      <td>1409.0</td>\n",
       "    </tr>\n",
       "  </tbody>\n",
       "</table>\n",
       "</div>"
      ],
      "text/plain": [
       "    Unnamed: 0  year  quarter  paid_membership  quarter_revenue\n",
       "21          21  2017        2            99.04           2785.0\n",
       "28          28  2019        1           148.86           4521.0\n",
       "10          10  2014        3            50.65           1409.0"
      ]
     },
     "execution_count": 22,
     "metadata": {},
     "output_type": "execute_result"
    }
   ],
   "source": [
    "membership.sample(3)"
   ]
  },
  {
   "cell_type": "markdown",
   "metadata": {},
   "source": [
    "### Tables merging "
   ]
  },
  {
   "cell_type": "code",
   "execution_count": 31,
   "metadata": {},
   "outputs": [
    {
     "data": {
      "text/html": [
       "<div>\n",
       "<style scoped>\n",
       "    .dataframe tbody tr th:only-of-type {\n",
       "        vertical-align: middle;\n",
       "    }\n",
       "\n",
       "    .dataframe tbody tr th {\n",
       "        vertical-align: top;\n",
       "    }\n",
       "\n",
       "    .dataframe thead th {\n",
       "        text-align: right;\n",
       "    }\n",
       "</style>\n",
       "<table border=\"1\" class=\"dataframe\">\n",
       "  <thead>\n",
       "    <tr style=\"text-align: right;\">\n",
       "      <th></th>\n",
       "      <th>genre</th>\n",
       "      <th>language</th>\n",
       "      <th>length</th>\n",
       "      <th>premiere</th>\n",
       "      <th>title</th>\n",
       "      <th>avg_rating</th>\n",
       "      <th>num_reviews</th>\n",
       "      <th>rating_count</th>\n",
       "    </tr>\n",
       "  </thead>\n",
       "  <tbody>\n",
       "    <tr>\n",
       "      <th>279</th>\n",
       "      <td>NaN</td>\n",
       "      <td>English</td>\n",
       "      <td>15–26 min.</td>\n",
       "      <td>November 20, 2018</td>\n",
       "      <td>Motown Magic</td>\n",
       "      <td>7.8</td>\n",
       "      <td>6</td>\n",
       "      <td>153</td>\n",
       "    </tr>\n",
       "    <tr>\n",
       "      <th>936</th>\n",
       "      <td>Drama</td>\n",
       "      <td>English\\n</td>\n",
       "      <td>NaN</td>\n",
       "      <td>2016</td>\n",
       "      <td>Wanted</td>\n",
       "      <td>8.4</td>\n",
       "      <td>4</td>\n",
       "      <td>861</td>\n",
       "    </tr>\n",
       "    <tr>\n",
       "      <th>837</th>\n",
       "      <td>Animation</td>\n",
       "      <td>English\\n</td>\n",
       "      <td>NaN</td>\n",
       "      <td>2015</td>\n",
       "      <td>Inspector Gadget</td>\n",
       "      <td>4.6</td>\n",
       "      <td>13</td>\n",
       "      <td>337</td>\n",
       "    </tr>\n",
       "  </tbody>\n",
       "</table>\n",
       "</div>"
      ],
      "text/plain": [
       "         genre   language      length           premiere             title  \\\n",
       "279        NaN    English  15–26 min.  November 20, 2018      Motown Magic   \n",
       "936      Drama  English\\n         NaN               2016            Wanted   \n",
       "837  Animation  English\\n         NaN               2015  Inspector Gadget   \n",
       "\n",
       "     avg_rating  num_reviews rating_count  \n",
       "279         7.8            6          153  \n",
       "936         8.4            4          861  \n",
       "837         4.6           13          337  "
      ]
     },
     "execution_count": 31,
     "metadata": {},
     "output_type": "execute_result"
    }
   ],
   "source": [
    "#inner join netflix table with imbd table on title and drop status, episodes, seasons variables for now\n",
    "inj = pd.merge(netflix, imbd, how='inner', on ='title').drop(['status','episodes','seasons'], axis=1)\n",
    "inj.sample(3)"
   ]
  },
  {
   "cell_type": "code",
   "execution_count": 30,
   "metadata": {},
   "outputs": [
    {
     "data": {
      "text/html": [
       "<div>\n",
       "<style scoped>\n",
       "    .dataframe tbody tr th:only-of-type {\n",
       "        vertical-align: middle;\n",
       "    }\n",
       "\n",
       "    .dataframe tbody tr th {\n",
       "        vertical-align: top;\n",
       "    }\n",
       "\n",
       "    .dataframe thead th {\n",
       "        text-align: right;\n",
       "    }\n",
       "</style>\n",
       "<table border=\"1\" class=\"dataframe\">\n",
       "  <thead>\n",
       "    <tr style=\"text-align: right;\">\n",
       "      <th></th>\n",
       "      <th>avg_rating</th>\n",
       "      <th>num_reviews</th>\n",
       "      <th>rating_count</th>\n",
       "      <th>title</th>\n",
       "      <th>genre</th>\n",
       "      <th>language</th>\n",
       "      <th>length</th>\n",
       "      <th>premiere</th>\n",
       "    </tr>\n",
       "  </thead>\n",
       "  <tbody>\n",
       "    <tr>\n",
       "      <th>165</th>\n",
       "      <td>6.4</td>\n",
       "      <td>875</td>\n",
       "      <td>149,372</td>\n",
       "      <td>Bright</td>\n",
       "      <td>Urban fantasy</td>\n",
       "      <td>TBA\\n</td>\n",
       "      <td>NaN</td>\n",
       "      <td>NaN</td>\n",
       "    </tr>\n",
       "    <tr>\n",
       "      <th>139</th>\n",
       "      <td>6.6</td>\n",
       "      <td>2</td>\n",
       "      <td>225,210</td>\n",
       "      <td>Bird Box</td>\n",
       "      <td>Psychological thriller</td>\n",
       "      <td>English\\n</td>\n",
       "      <td>2 hours, 4 min.</td>\n",
       "      <td>December 21, 2018</td>\n",
       "    </tr>\n",
       "    <tr>\n",
       "      <th>298</th>\n",
       "      <td>6.7</td>\n",
       "      <td>68</td>\n",
       "      <td>6,089</td>\n",
       "      <td>Knock Down the House</td>\n",
       "      <td>NaN</td>\n",
       "      <td>English\\n</td>\n",
       "      <td>1 hour, 27 min.</td>\n",
       "      <td>May 1, 2019</td>\n",
       "    </tr>\n",
       "  </tbody>\n",
       "</table>\n",
       "</div>"
      ],
      "text/plain": [
       "     avg_rating  num_reviews rating_count                 title  \\\n",
       "165         6.4          875      149,372                Bright   \n",
       "139         6.6            2      225,210              Bird Box   \n",
       "298         6.7           68        6,089  Knock Down the House   \n",
       "\n",
       "                      genre   language           length           premiere  \n",
       "165           Urban fantasy      TBA\\n              NaN                NaN  \n",
       "139  Psychological thriller  English\\n  2 hours, 4 min.  December 21, 2018  \n",
       "298                     NaN  English\\n  1 hour, 27 min.        May 1, 2019  "
      ]
     },
     "execution_count": 30,
     "metadata": {},
     "output_type": "execute_result"
    }
   ],
   "source": [
    "#inner join netflix_film with imbd on title\n",
    "ifj = pd.merge(imbd, netflix_film, how='inner', on ='title').drop(['distribution'], axis=1)\n",
    "ifj.sample(3)"
   ]
  },
  {
   "cell_type": "code",
   "execution_count": 29,
   "metadata": {},
   "outputs": [
    {
     "data": {
      "text/html": [
       "<div>\n",
       "<style scoped>\n",
       "    .dataframe tbody tr th:only-of-type {\n",
       "        vertical-align: middle;\n",
       "    }\n",
       "\n",
       "    .dataframe tbody tr th {\n",
       "        vertical-align: top;\n",
       "    }\n",
       "\n",
       "    .dataframe thead th {\n",
       "        text-align: right;\n",
       "    }\n",
       "</style>\n",
       "<table border=\"1\" class=\"dataframe\">\n",
       "  <thead>\n",
       "    <tr style=\"text-align: right;\">\n",
       "      <th></th>\n",
       "      <th>avg_rating</th>\n",
       "      <th>genre</th>\n",
       "      <th>language</th>\n",
       "      <th>length</th>\n",
       "      <th>num_reviews</th>\n",
       "      <th>premiere</th>\n",
       "      <th>rating_count</th>\n",
       "      <th>title</th>\n",
       "    </tr>\n",
       "  </thead>\n",
       "  <tbody>\n",
       "    <tr>\n",
       "      <th>332</th>\n",
       "      <td>6.9</td>\n",
       "      <td>Political drama</td>\n",
       "      <td>English</td>\n",
       "      <td>35–53 min.</td>\n",
       "      <td>23</td>\n",
       "      <td>May 5, 2016</td>\n",
       "      <td>3,967</td>\n",
       "      <td>Marseille</td>\n",
       "    </tr>\n",
       "    <tr>\n",
       "      <th>668</th>\n",
       "      <td>7.5</td>\n",
       "      <td>CBBC</td>\n",
       "      <td>English</td>\n",
       "      <td>28–59 min.</td>\n",
       "      <td>32</td>\n",
       "      <td>NaN</td>\n",
       "      <td>1,161</td>\n",
       "      <td>The Worst Witch</td>\n",
       "    </tr>\n",
       "    <tr>\n",
       "      <th>698</th>\n",
       "      <td>7.5</td>\n",
       "      <td>CBBC</td>\n",
       "      <td>English</td>\n",
       "      <td>28–59 min.</td>\n",
       "      <td>32</td>\n",
       "      <td>NaN</td>\n",
       "      <td>1,161</td>\n",
       "      <td>The Worst Witch</td>\n",
       "    </tr>\n",
       "  </tbody>\n",
       "</table>\n",
       "</div>"
      ],
      "text/plain": [
       "     avg_rating            genre language      length  num_reviews  \\\n",
       "332         6.9  Political drama  English  35–53 min.           23   \n",
       "668         7.5             CBBC  English  28–59 min.           32   \n",
       "698         7.5             CBBC  English  28–59 min.           32   \n",
       "\n",
       "        premiere rating_count            title  \n",
       "332  May 5, 2016        3,967        Marseille  \n",
       "668          NaN        1,161  The Worst Witch  \n",
       "698          NaN        1,161  The Worst Witch  "
      ]
     },
     "execution_count": 29,
     "metadata": {},
     "output_type": "execute_result"
    }
   ],
   "source": [
    "#concatenate inj and ifj\n",
    "infj = pd.concat([inj, ifj], axis = 0,sort=True)\n",
    "infj.sample(3)"
   ]
  },
  {
   "cell_type": "code",
   "execution_count": 36,
   "metadata": {},
   "outputs": [
    {
     "data": {
      "text/html": [
       "<div>\n",
       "<style scoped>\n",
       "    .dataframe tbody tr th:only-of-type {\n",
       "        vertical-align: middle;\n",
       "    }\n",
       "\n",
       "    .dataframe tbody tr th {\n",
       "        vertical-align: top;\n",
       "    }\n",
       "\n",
       "    .dataframe thead th {\n",
       "        text-align: right;\n",
       "    }\n",
       "</style>\n",
       "<table border=\"1\" class=\"dataframe\">\n",
       "  <thead>\n",
       "    <tr style=\"text-align: right;\">\n",
       "      <th></th>\n",
       "      <th>avg_rating</th>\n",
       "      <th>genre</th>\n",
       "      <th>language</th>\n",
       "      <th>length</th>\n",
       "      <th>num_reviews</th>\n",
       "      <th>premiere</th>\n",
       "      <th>rating_count</th>\n",
       "      <th>title</th>\n",
       "    </tr>\n",
       "  </thead>\n",
       "  <tbody>\n",
       "    <tr>\n",
       "      <th>934</th>\n",
       "      <td>7.4</td>\n",
       "      <td>Comedy</td>\n",
       "      <td>English\\n</td>\n",
       "      <td>NaN</td>\n",
       "      <td>53</td>\n",
       "      <td>2017-05-28</td>\n",
       "      <td>7,106</td>\n",
       "      <td>White Gold</td>\n",
       "    </tr>\n",
       "    <tr>\n",
       "      <th>65</th>\n",
       "      <td>8.1</td>\n",
       "      <td>Comedy-drama</td>\n",
       "      <td>English</td>\n",
       "      <td>50–92 min.</td>\n",
       "      <td>331</td>\n",
       "      <td>2014-06-06</td>\n",
       "      <td>257,345</td>\n",
       "      <td>Orange Is the New Black</td>\n",
       "    </tr>\n",
       "    <tr>\n",
       "      <th>507</th>\n",
       "      <td>8.5</td>\n",
       "      <td>Documentary</td>\n",
       "      <td>English</td>\n",
       "      <td>43–51 min.</td>\n",
       "      <td>20</td>\n",
       "      <td>December 22, 2017</td>\n",
       "      <td>3,336</td>\n",
       "      <td>The Toys That Made Us</td>\n",
       "    </tr>\n",
       "  </tbody>\n",
       "</table>\n",
       "</div>"
      ],
      "text/plain": [
       "     avg_rating         genre   language      length  num_reviews  \\\n",
       "934         7.4        Comedy  English\\n         NaN           53   \n",
       "65          8.1  Comedy-drama    English  50–92 min.          331   \n",
       "507         8.5   Documentary    English  43–51 min.           20   \n",
       "\n",
       "              premiere rating_count                    title  \n",
       "934         2017-05-28        7,106               White Gold  \n",
       "65          2014-06-06      257,345  Orange Is the New Black  \n",
       "507  December 22, 2017        3,336    The Toys That Made Us  "
      ]
     },
     "execution_count": 36,
     "metadata": {},
     "output_type": "execute_result"
    }
   ],
   "source": [
    "#remove null value in premiere column\n",
    "infj = infj.loc[~infj['premiere'].isnull(),:]\n",
    "infj.sample(3)"
   ]
  },
  {
   "cell_type": "code",
   "execution_count": 578,
   "metadata": {},
   "outputs": [],
   "source": [
    "# strip \"n/\" in language column \n",
    "infj.language = infj.language.str.strip()\n",
    "# infj.sample(3)"
   ]
  },
  {
   "cell_type": "code",
   "execution_count": 579,
   "metadata": {},
   "outputs": [],
   "source": [
    "# drop NaN\n",
    "infj = infj.dropna(axis=0, how='any')\n",
    "# infj.sample(3)"
   ]
  },
  {
   "cell_type": "code",
   "execution_count": 580,
   "metadata": {},
   "outputs": [],
   "source": [
    "# drop length column for inconsistent format\n",
    "infj = infj.drop(['length'], axis=1)\n"
   ]
  },
  {
   "cell_type": "code",
   "execution_count": 33,
   "metadata": {},
   "outputs": [
    {
     "data": {
      "text/html": [
       "<div>\n",
       "<style scoped>\n",
       "    .dataframe tbody tr th:only-of-type {\n",
       "        vertical-align: middle;\n",
       "    }\n",
       "\n",
       "    .dataframe tbody tr th {\n",
       "        vertical-align: top;\n",
       "    }\n",
       "\n",
       "    .dataframe thead th {\n",
       "        text-align: right;\n",
       "    }\n",
       "</style>\n",
       "<table border=\"1\" class=\"dataframe\">\n",
       "  <thead>\n",
       "    <tr style=\"text-align: right;\">\n",
       "      <th></th>\n",
       "      <th>avg_rating</th>\n",
       "      <th>genre</th>\n",
       "      <th>language</th>\n",
       "      <th>length</th>\n",
       "      <th>num_reviews</th>\n",
       "      <th>premiere</th>\n",
       "      <th>rating_count</th>\n",
       "      <th>title</th>\n",
       "    </tr>\n",
       "  </thead>\n",
       "  <tbody>\n",
       "    <tr>\n",
       "      <th>128</th>\n",
       "      <td>6.8</td>\n",
       "      <td>Drama</td>\n",
       "      <td>English\\n</td>\n",
       "      <td>1 hour, 27 min.</td>\n",
       "      <td>8</td>\n",
       "      <td>February 3, 2017</td>\n",
       "      <td>3,361</td>\n",
       "      <td>Imperial Dreams</td>\n",
       "    </tr>\n",
       "    <tr>\n",
       "      <th>325</th>\n",
       "      <td>5.9</td>\n",
       "      <td>Science fiction</td>\n",
       "      <td>English</td>\n",
       "      <td>41–45 min.</td>\n",
       "      <td>37</td>\n",
       "      <td>March 29, 2019</td>\n",
       "      <td>1,681</td>\n",
       "      <td>Osmosis</td>\n",
       "    </tr>\n",
       "    <tr>\n",
       "      <th>211</th>\n",
       "      <td>5.2</td>\n",
       "      <td>Comedy</td>\n",
       "      <td>English\\n</td>\n",
       "      <td>1 hour, 34 min.</td>\n",
       "      <td>226</td>\n",
       "      <td>May 25, 2018</td>\n",
       "      <td>12,986</td>\n",
       "      <td>Ibiza</td>\n",
       "    </tr>\n",
       "  </tbody>\n",
       "</table>\n",
       "</div>"
      ],
      "text/plain": [
       "     avg_rating            genre   language           length  num_reviews  \\\n",
       "128         6.8            Drama  English\\n  1 hour, 27 min.            8   \n",
       "325         5.9  Science fiction    English       41–45 min.           37   \n",
       "211         5.2           Comedy  English\\n  1 hour, 34 min.          226   \n",
       "\n",
       "             premiere rating_count            title  \n",
       "128  February 3, 2017        3,361  Imperial Dreams  \n",
       "325    March 29, 2019        1,681          Osmosis  \n",
       "211      May 25, 2018       12,986            Ibiza  "
      ]
     },
     "execution_count": 33,
     "metadata": {},
     "output_type": "execute_result"
    }
   ],
   "source": [
    "infj.sample(3)"
   ]
  },
  {
   "cell_type": "code",
   "execution_count": 582,
   "metadata": {},
   "outputs": [],
   "source": [
    "# make premiere column as datetime to uniform format of premiere\n",
    "infj['premiere'] = pd.to_datetime(infj['premiere'])"
   ]
  },
  {
   "cell_type": "code",
   "execution_count": 583,
   "metadata": {},
   "outputs": [
    {
     "data": {
      "text/html": [
       "<div>\n",
       "<style scoped>\n",
       "    .dataframe tbody tr th:only-of-type {\n",
       "        vertical-align: middle;\n",
       "    }\n",
       "\n",
       "    .dataframe tbody tr th {\n",
       "        vertical-align: top;\n",
       "    }\n",
       "\n",
       "    .dataframe thead th {\n",
       "        text-align: right;\n",
       "    }\n",
       "</style>\n",
       "<table border=\"1\" class=\"dataframe\">\n",
       "  <thead>\n",
       "    <tr style=\"text-align: right;\">\n",
       "      <th></th>\n",
       "      <th>avg_rating</th>\n",
       "      <th>genre</th>\n",
       "      <th>language</th>\n",
       "      <th>num_reviews</th>\n",
       "      <th>premiere</th>\n",
       "      <th>rating_count</th>\n",
       "      <th>title</th>\n",
       "    </tr>\n",
       "  </thead>\n",
       "  <tbody>\n",
       "    <tr>\n",
       "      <th>0</th>\n",
       "      <td>7.8</td>\n",
       "      <td>Family drama</td>\n",
       "      <td>English</td>\n",
       "      <td>175</td>\n",
       "      <td>2016-11-25</td>\n",
       "      <td>24,341</td>\n",
       "      <td>Gilmore Girls: A Year in the Life</td>\n",
       "    </tr>\n",
       "    <tr>\n",
       "      <th>1</th>\n",
       "      <td>6.9</td>\n",
       "      <td>Psychological thriller</td>\n",
       "      <td>English</td>\n",
       "      <td>136</td>\n",
       "      <td>2017-06-30</td>\n",
       "      <td>11,950</td>\n",
       "      <td>Gypsy</td>\n",
       "    </tr>\n",
       "    <tr>\n",
       "      <th>2</th>\n",
       "      <td>8.5</td>\n",
       "      <td>Crime drama</td>\n",
       "      <td>English</td>\n",
       "      <td>299</td>\n",
       "      <td>2017-10-13</td>\n",
       "      <td>124,268</td>\n",
       "      <td>Mindhunter</td>\n",
       "    </tr>\n",
       "    <tr>\n",
       "      <th>3</th>\n",
       "      <td>8.3</td>\n",
       "      <td>Western</td>\n",
       "      <td>English</td>\n",
       "      <td>229</td>\n",
       "      <td>2017-11-22</td>\n",
       "      <td>39,539</td>\n",
       "      <td>Godless</td>\n",
       "    </tr>\n",
       "    <tr>\n",
       "      <th>4</th>\n",
       "      <td>8.2</td>\n",
       "      <td>Science fiction</td>\n",
       "      <td>English</td>\n",
       "      <td>540</td>\n",
       "      <td>2018-02-02</td>\n",
       "      <td>104,909</td>\n",
       "      <td>Altered Carbon</td>\n",
       "    </tr>\n",
       "  </tbody>\n",
       "</table>\n",
       "</div>"
      ],
      "text/plain": [
       "   avg_rating                   genre language  num_reviews   premiere  \\\n",
       "0         7.8            Family drama  English          175 2016-11-25   \n",
       "1         6.9  Psychological thriller  English          136 2017-06-30   \n",
       "2         8.5             Crime drama  English          299 2017-10-13   \n",
       "3         8.3                 Western  English          229 2017-11-22   \n",
       "4         8.2         Science fiction  English          540 2018-02-02   \n",
       "\n",
       "  rating_count                              title  \n",
       "0       24,341  Gilmore Girls: A Year in the Life  \n",
       "1       11,950                              Gypsy  \n",
       "2      124,268                         Mindhunter  \n",
       "3       39,539                            Godless  \n",
       "4      104,909                     Altered Carbon  "
      ]
     },
     "execution_count": 583,
     "metadata": {},
     "output_type": "execute_result"
    }
   ],
   "source": [
    "infj.head()"
   ]
  },
  {
   "cell_type": "code",
   "execution_count": 584,
   "metadata": {},
   "outputs": [],
   "source": [
    "infj['quarter'] = infj['premiere'].dt.quarter"
   ]
  },
  {
   "cell_type": "code",
   "execution_count": 585,
   "metadata": {},
   "outputs": [],
   "source": [
    "infj['year'] = infj['premiere'].dt.year"
   ]
  },
  {
   "cell_type": "code",
   "execution_count": 586,
   "metadata": {},
   "outputs": [
    {
     "data": {
      "text/html": [
       "<div>\n",
       "<style scoped>\n",
       "    .dataframe tbody tr th:only-of-type {\n",
       "        vertical-align: middle;\n",
       "    }\n",
       "\n",
       "    .dataframe tbody tr th {\n",
       "        vertical-align: top;\n",
       "    }\n",
       "\n",
       "    .dataframe thead th {\n",
       "        text-align: right;\n",
       "    }\n",
       "</style>\n",
       "<table border=\"1\" class=\"dataframe\">\n",
       "  <thead>\n",
       "    <tr style=\"text-align: right;\">\n",
       "      <th></th>\n",
       "      <th>avg_rating</th>\n",
       "      <th>genre</th>\n",
       "      <th>language</th>\n",
       "      <th>num_reviews</th>\n",
       "      <th>premiere</th>\n",
       "      <th>rating_count</th>\n",
       "      <th>title</th>\n",
       "      <th>quarter</th>\n",
       "      <th>year</th>\n",
       "    </tr>\n",
       "  </thead>\n",
       "  <tbody>\n",
       "    <tr>\n",
       "      <th>0</th>\n",
       "      <td>7.8</td>\n",
       "      <td>Family drama</td>\n",
       "      <td>English</td>\n",
       "      <td>175</td>\n",
       "      <td>2016-11-25</td>\n",
       "      <td>24,341</td>\n",
       "      <td>Gilmore Girls: A Year in the Life</td>\n",
       "      <td>4</td>\n",
       "      <td>2016</td>\n",
       "    </tr>\n",
       "    <tr>\n",
       "      <th>1</th>\n",
       "      <td>6.9</td>\n",
       "      <td>Psychological thriller</td>\n",
       "      <td>English</td>\n",
       "      <td>136</td>\n",
       "      <td>2017-06-30</td>\n",
       "      <td>11,950</td>\n",
       "      <td>Gypsy</td>\n",
       "      <td>2</td>\n",
       "      <td>2017</td>\n",
       "    </tr>\n",
       "    <tr>\n",
       "      <th>2</th>\n",
       "      <td>8.5</td>\n",
       "      <td>Crime drama</td>\n",
       "      <td>English</td>\n",
       "      <td>299</td>\n",
       "      <td>2017-10-13</td>\n",
       "      <td>124,268</td>\n",
       "      <td>Mindhunter</td>\n",
       "      <td>4</td>\n",
       "      <td>2017</td>\n",
       "    </tr>\n",
       "    <tr>\n",
       "      <th>3</th>\n",
       "      <td>8.3</td>\n",
       "      <td>Western</td>\n",
       "      <td>English</td>\n",
       "      <td>229</td>\n",
       "      <td>2017-11-22</td>\n",
       "      <td>39,539</td>\n",
       "      <td>Godless</td>\n",
       "      <td>4</td>\n",
       "      <td>2017</td>\n",
       "    </tr>\n",
       "    <tr>\n",
       "      <th>4</th>\n",
       "      <td>8.2</td>\n",
       "      <td>Science fiction</td>\n",
       "      <td>English</td>\n",
       "      <td>540</td>\n",
       "      <td>2018-02-02</td>\n",
       "      <td>104,909</td>\n",
       "      <td>Altered Carbon</td>\n",
       "      <td>1</td>\n",
       "      <td>2018</td>\n",
       "    </tr>\n",
       "  </tbody>\n",
       "</table>\n",
       "</div>"
      ],
      "text/plain": [
       "   avg_rating                   genre language  num_reviews   premiere  \\\n",
       "0         7.8            Family drama  English          175 2016-11-25   \n",
       "1         6.9  Psychological thriller  English          136 2017-06-30   \n",
       "2         8.5             Crime drama  English          299 2017-10-13   \n",
       "3         8.3                 Western  English          229 2017-11-22   \n",
       "4         8.2         Science fiction  English          540 2018-02-02   \n",
       "\n",
       "  rating_count                              title  quarter  year  \n",
       "0       24,341  Gilmore Girls: A Year in the Life        4  2016  \n",
       "1       11,950                              Gypsy        2  2017  \n",
       "2      124,268                         Mindhunter        4  2017  \n",
       "3       39,539                            Godless        4  2017  \n",
       "4      104,909                     Altered Carbon        1  2018  "
      ]
     },
     "execution_count": 586,
     "metadata": {},
     "output_type": "execute_result"
    }
   ],
   "source": [
    "infj.head()"
   ]
  },
  {
   "cell_type": "code",
   "execution_count": 587,
   "metadata": {},
   "outputs": [],
   "source": [
    "# Set premiere as index\n",
    "# pi = infjr.set_index('premiere')"
   ]
  },
  {
   "cell_type": "code",
   "execution_count": 588,
   "metadata": {},
   "outputs": [],
   "source": [
    "# pi['quarter'] = pi.index.quarter"
   ]
  },
  {
   "cell_type": "code",
   "execution_count": 589,
   "metadata": {},
   "outputs": [],
   "source": [
    "# pi['year'] = pi.index.year"
   ]
  },
  {
   "cell_type": "code",
   "execution_count": 590,
   "metadata": {},
   "outputs": [
    {
     "data": {
      "text/html": [
       "<div>\n",
       "<style scoped>\n",
       "    .dataframe tbody tr th:only-of-type {\n",
       "        vertical-align: middle;\n",
       "    }\n",
       "\n",
       "    .dataframe tbody tr th {\n",
       "        vertical-align: top;\n",
       "    }\n",
       "\n",
       "    .dataframe thead th {\n",
       "        text-align: right;\n",
       "    }\n",
       "</style>\n",
       "<table border=\"1\" class=\"dataframe\">\n",
       "  <thead>\n",
       "    <tr style=\"text-align: right;\">\n",
       "      <th></th>\n",
       "      <th>Unnamed: 0</th>\n",
       "      <th>year</th>\n",
       "      <th>quarter</th>\n",
       "      <th>paid_membership</th>\n",
       "      <th>quarter_revenue</th>\n",
       "    </tr>\n",
       "  </thead>\n",
       "  <tbody>\n",
       "    <tr>\n",
       "      <th>0</th>\n",
       "      <td>0</td>\n",
       "      <td>2012</td>\n",
       "      <td>1</td>\n",
       "      <td>24.43</td>\n",
       "      <td>869.8</td>\n",
       "    </tr>\n",
       "    <tr>\n",
       "      <th>1</th>\n",
       "      <td>1</td>\n",
       "      <td>2012</td>\n",
       "      <td>2</td>\n",
       "      <td>25.71</td>\n",
       "      <td>889.2</td>\n",
       "    </tr>\n",
       "    <tr>\n",
       "      <th>2</th>\n",
       "      <td>2</td>\n",
       "      <td>2012</td>\n",
       "      <td>3</td>\n",
       "      <td>27.49</td>\n",
       "      <td>905.1</td>\n",
       "    </tr>\n",
       "    <tr>\n",
       "      <th>3</th>\n",
       "      <td>3</td>\n",
       "      <td>2012</td>\n",
       "      <td>4</td>\n",
       "      <td>30.36</td>\n",
       "      <td>945.2</td>\n",
       "    </tr>\n",
       "    <tr>\n",
       "      <th>4</th>\n",
       "      <td>4</td>\n",
       "      <td>2013</td>\n",
       "      <td>1</td>\n",
       "      <td>34.24</td>\n",
       "      <td>1024.0</td>\n",
       "    </tr>\n",
       "  </tbody>\n",
       "</table>\n",
       "</div>"
      ],
      "text/plain": [
       "   Unnamed: 0  year  quarter  paid_membership  quarter_revenue\n",
       "0           0  2012        1            24.43            869.8\n",
       "1           1  2012        2            25.71            889.2\n",
       "2           2  2012        3            27.49            905.1\n",
       "3           3  2012        4            30.36            945.2\n",
       "4           4  2013        1            34.24           1024.0"
      ]
     },
     "execution_count": 590,
     "metadata": {},
     "output_type": "execute_result"
    }
   ],
   "source": [
    "membership.head()"
   ]
  },
  {
   "cell_type": "code",
   "execution_count": 591,
   "metadata": {},
   "outputs": [],
   "source": [
    "membership = membership.drop('Unnamed: 0', axis=1)"
   ]
  },
  {
   "cell_type": "code",
   "execution_count": 592,
   "metadata": {},
   "outputs": [
    {
     "data": {
      "text/html": [
       "<div>\n",
       "<style scoped>\n",
       "    .dataframe tbody tr th:only-of-type {\n",
       "        vertical-align: middle;\n",
       "    }\n",
       "\n",
       "    .dataframe tbody tr th {\n",
       "        vertical-align: top;\n",
       "    }\n",
       "\n",
       "    .dataframe thead th {\n",
       "        text-align: right;\n",
       "    }\n",
       "</style>\n",
       "<table border=\"1\" class=\"dataframe\">\n",
       "  <thead>\n",
       "    <tr style=\"text-align: right;\">\n",
       "      <th></th>\n",
       "      <th>year</th>\n",
       "      <th>quarter</th>\n",
       "      <th>paid_membership</th>\n",
       "      <th>quarter_revenue</th>\n",
       "    </tr>\n",
       "  </thead>\n",
       "  <tbody>\n",
       "    <tr>\n",
       "      <th>0</th>\n",
       "      <td>2012</td>\n",
       "      <td>1</td>\n",
       "      <td>24.43</td>\n",
       "      <td>869.8</td>\n",
       "    </tr>\n",
       "    <tr>\n",
       "      <th>1</th>\n",
       "      <td>2012</td>\n",
       "      <td>2</td>\n",
       "      <td>25.71</td>\n",
       "      <td>889.2</td>\n",
       "    </tr>\n",
       "    <tr>\n",
       "      <th>2</th>\n",
       "      <td>2012</td>\n",
       "      <td>3</td>\n",
       "      <td>27.49</td>\n",
       "      <td>905.1</td>\n",
       "    </tr>\n",
       "    <tr>\n",
       "      <th>3</th>\n",
       "      <td>2012</td>\n",
       "      <td>4</td>\n",
       "      <td>30.36</td>\n",
       "      <td>945.2</td>\n",
       "    </tr>\n",
       "    <tr>\n",
       "      <th>4</th>\n",
       "      <td>2013</td>\n",
       "      <td>1</td>\n",
       "      <td>34.24</td>\n",
       "      <td>1024.0</td>\n",
       "    </tr>\n",
       "  </tbody>\n",
       "</table>\n",
       "</div>"
      ],
      "text/plain": [
       "   year  quarter  paid_membership  quarter_revenue\n",
       "0  2012        1            24.43            869.8\n",
       "1  2012        2            25.71            889.2\n",
       "2  2012        3            27.49            905.1\n",
       "3  2012        4            30.36            945.2\n",
       "4  2013        1            34.24           1024.0"
      ]
     },
     "execution_count": 592,
     "metadata": {},
     "output_type": "execute_result"
    }
   ],
   "source": [
    "membership.head()"
   ]
  },
  {
   "cell_type": "code",
   "execution_count": 593,
   "metadata": {},
   "outputs": [],
   "source": [
    "# merge membership with our infj\n",
    "infj = pd.merge(infj, membership, how='inner', on =['year','quarter']).sort_values(['year','quarter'], ascending = False)#.reset_index().set_index('index')"
   ]
  },
  {
   "cell_type": "code",
   "execution_count": 594,
   "metadata": {},
   "outputs": [],
   "source": [
    "infj['year_quarter'] = infj['year'].map(str) + '_0' + infj['quarter'].map(str)"
   ]
  },
  {
   "cell_type": "code",
   "execution_count": 595,
   "metadata": {},
   "outputs": [
    {
     "data": {
      "text/html": [
       "<div>\n",
       "<style scoped>\n",
       "    .dataframe tbody tr th:only-of-type {\n",
       "        vertical-align: middle;\n",
       "    }\n",
       "\n",
       "    .dataframe tbody tr th {\n",
       "        vertical-align: top;\n",
       "    }\n",
       "\n",
       "    .dataframe thead th {\n",
       "        text-align: right;\n",
       "    }\n",
       "</style>\n",
       "<table border=\"1\" class=\"dataframe\">\n",
       "  <thead>\n",
       "    <tr style=\"text-align: right;\">\n",
       "      <th></th>\n",
       "      <th>avg_rating</th>\n",
       "      <th>genre</th>\n",
       "      <th>language</th>\n",
       "      <th>num_reviews</th>\n",
       "      <th>premiere</th>\n",
       "      <th>rating_count</th>\n",
       "      <th>title</th>\n",
       "      <th>quarter</th>\n",
       "      <th>year</th>\n",
       "      <th>paid_membership</th>\n",
       "      <th>quarter_revenue</th>\n",
       "      <th>year_quarter</th>\n",
       "    </tr>\n",
       "  </thead>\n",
       "  <tbody>\n",
       "    <tr>\n",
       "      <th>297</th>\n",
       "      <td>6.4</td>\n",
       "      <td>Zombie</td>\n",
       "      <td>English</td>\n",
       "      <td>1</td>\n",
       "      <td>2019-04-11</td>\n",
       "      <td>14,100</td>\n",
       "      <td>Black Summer</td>\n",
       "      <td>2</td>\n",
       "      <td>2019</td>\n",
       "      <td>151.56</td>\n",
       "      <td>4923.0</td>\n",
       "      <td>2019_02</td>\n",
       "    </tr>\n",
       "    <tr>\n",
       "      <th>298</th>\n",
       "      <td>6.6</td>\n",
       "      <td>Teen</td>\n",
       "      <td>English</td>\n",
       "      <td>195</td>\n",
       "      <td>2019-04-26</td>\n",
       "      <td>5,305</td>\n",
       "      <td>Chambers</td>\n",
       "      <td>2</td>\n",
       "      <td>2019</td>\n",
       "      <td>151.56</td>\n",
       "      <td>4923.0</td>\n",
       "      <td>2019_02</td>\n",
       "    </tr>\n",
       "    <tr>\n",
       "      <th>299</th>\n",
       "      <td>7.1</td>\n",
       "      <td>Mystery</td>\n",
       "      <td>English</td>\n",
       "      <td>358</td>\n",
       "      <td>2019-05-10</td>\n",
       "      <td>10,810</td>\n",
       "      <td>The Society</td>\n",
       "      <td>2</td>\n",
       "      <td>2019</td>\n",
       "      <td>151.56</td>\n",
       "      <td>4923.0</td>\n",
       "      <td>2019_02</td>\n",
       "    </tr>\n",
       "    <tr>\n",
       "      <th>300</th>\n",
       "      <td>6.3</td>\n",
       "      <td>Social thriller</td>\n",
       "      <td>English</td>\n",
       "      <td>329</td>\n",
       "      <td>2019-05-24</td>\n",
       "      <td>8,301</td>\n",
       "      <td>What/If</td>\n",
       "      <td>2</td>\n",
       "      <td>2019</td>\n",
       "      <td>151.56</td>\n",
       "      <td>4923.0</td>\n",
       "      <td>2019_02</td>\n",
       "    </tr>\n",
       "    <tr>\n",
       "      <th>301</th>\n",
       "      <td>9.1</td>\n",
       "      <td>Drama</td>\n",
       "      <td>English</td>\n",
       "      <td>421</td>\n",
       "      <td>2019-05-31</td>\n",
       "      <td>33,956</td>\n",
       "      <td>When They See Us</td>\n",
       "      <td>2</td>\n",
       "      <td>2019</td>\n",
       "      <td>151.56</td>\n",
       "      <td>4923.0</td>\n",
       "      <td>2019_02</td>\n",
       "    </tr>\n",
       "  </tbody>\n",
       "</table>\n",
       "</div>"
      ],
      "text/plain": [
       "     avg_rating            genre language  num_reviews   premiere  \\\n",
       "297         6.4           Zombie  English            1 2019-04-11   \n",
       "298         6.6             Teen  English          195 2019-04-26   \n",
       "299         7.1          Mystery  English          358 2019-05-10   \n",
       "300         6.3  Social thriller  English          329 2019-05-24   \n",
       "301         9.1            Drama  English          421 2019-05-31   \n",
       "\n",
       "    rating_count             title  quarter  year  paid_membership  \\\n",
       "297       14,100      Black Summer        2  2019           151.56   \n",
       "298        5,305          Chambers        2  2019           151.56   \n",
       "299       10,810       The Society        2  2019           151.56   \n",
       "300        8,301           What/If        2  2019           151.56   \n",
       "301       33,956  When They See Us        2  2019           151.56   \n",
       "\n",
       "     quarter_revenue year_quarter  \n",
       "297           4923.0      2019_02  \n",
       "298           4923.0      2019_02  \n",
       "299           4923.0      2019_02  \n",
       "300           4923.0      2019_02  \n",
       "301           4923.0      2019_02  "
      ]
     },
     "execution_count": 595,
     "metadata": {},
     "output_type": "execute_result"
    }
   ],
   "source": [
    "infj.head()"
   ]
  },
  {
   "cell_type": "code",
   "execution_count": 596,
   "metadata": {},
   "outputs": [],
   "source": [
    "#drop unsless columns:\n",
    "# infj = infj.drop(['paid_membership_y','quarter_revenue_y'], axis=1)"
   ]
  },
  {
   "cell_type": "raw",
   "metadata": {},
   "source": [
    "****************************************************************************************************************"
   ]
  },
  {
   "cell_type": "code",
   "execution_count": 597,
   "metadata": {},
   "outputs": [],
   "source": [
    "# categorical: genre, language, year_quater; \n",
    "# numerical: paid_membership, quarter_revenue, num_reviews, rating_count, avg_rating"
   ]
  },
  {
   "cell_type": "code",
   "execution_count": 598,
   "metadata": {},
   "outputs": [],
   "source": [
    "# histogram: numeric \n",
    "# boxplot: categorical\n",
    "# scatter: relationship between two columns(numerical)"
   ]
  },
  {
   "cell_type": "code",
   "execution_count": 599,
   "metadata": {},
   "outputs": [],
   "source": [
    "# pd.to_numeric(infj['rating_count'])\n",
    "# infj = infj.astype({\"avg_rating\": int, \"num_reviews\": int, \"rating_count\":int})\n",
    "infj['rating_count'] = infj['rating_count'].str.replace(',','')\n",
    "infj['rating_count']= pd.to_numeric(infj['rating_count'])"
   ]
  },
  {
   "cell_type": "code",
   "execution_count": 600,
   "metadata": {},
   "outputs": [
    {
     "data": {
      "text/html": [
       "<div>\n",
       "<style scoped>\n",
       "    .dataframe tbody tr th:only-of-type {\n",
       "        vertical-align: middle;\n",
       "    }\n",
       "\n",
       "    .dataframe tbody tr th {\n",
       "        vertical-align: top;\n",
       "    }\n",
       "\n",
       "    .dataframe thead th {\n",
       "        text-align: right;\n",
       "    }\n",
       "</style>\n",
       "<table border=\"1\" class=\"dataframe\">\n",
       "  <thead>\n",
       "    <tr style=\"text-align: right;\">\n",
       "      <th></th>\n",
       "      <th>avg_rating</th>\n",
       "      <th>genre</th>\n",
       "      <th>language</th>\n",
       "      <th>num_reviews</th>\n",
       "      <th>premiere</th>\n",
       "      <th>rating_count</th>\n",
       "      <th>title</th>\n",
       "      <th>quarter</th>\n",
       "      <th>year</th>\n",
       "      <th>paid_membership</th>\n",
       "      <th>quarter_revenue</th>\n",
       "      <th>year_quarter</th>\n",
       "    </tr>\n",
       "  </thead>\n",
       "  <tbody>\n",
       "    <tr>\n",
       "      <th>297</th>\n",
       "      <td>6.4</td>\n",
       "      <td>Zombie</td>\n",
       "      <td>English</td>\n",
       "      <td>1</td>\n",
       "      <td>2019-04-11</td>\n",
       "      <td>14100</td>\n",
       "      <td>Black Summer</td>\n",
       "      <td>2</td>\n",
       "      <td>2019</td>\n",
       "      <td>151.56</td>\n",
       "      <td>4923.0</td>\n",
       "      <td>2019_02</td>\n",
       "    </tr>\n",
       "    <tr>\n",
       "      <th>298</th>\n",
       "      <td>6.6</td>\n",
       "      <td>Teen</td>\n",
       "      <td>English</td>\n",
       "      <td>195</td>\n",
       "      <td>2019-04-26</td>\n",
       "      <td>5305</td>\n",
       "      <td>Chambers</td>\n",
       "      <td>2</td>\n",
       "      <td>2019</td>\n",
       "      <td>151.56</td>\n",
       "      <td>4923.0</td>\n",
       "      <td>2019_02</td>\n",
       "    </tr>\n",
       "    <tr>\n",
       "      <th>299</th>\n",
       "      <td>7.1</td>\n",
       "      <td>Mystery</td>\n",
       "      <td>English</td>\n",
       "      <td>358</td>\n",
       "      <td>2019-05-10</td>\n",
       "      <td>10810</td>\n",
       "      <td>The Society</td>\n",
       "      <td>2</td>\n",
       "      <td>2019</td>\n",
       "      <td>151.56</td>\n",
       "      <td>4923.0</td>\n",
       "      <td>2019_02</td>\n",
       "    </tr>\n",
       "    <tr>\n",
       "      <th>300</th>\n",
       "      <td>6.3</td>\n",
       "      <td>Social thriller</td>\n",
       "      <td>English</td>\n",
       "      <td>329</td>\n",
       "      <td>2019-05-24</td>\n",
       "      <td>8301</td>\n",
       "      <td>What/If</td>\n",
       "      <td>2</td>\n",
       "      <td>2019</td>\n",
       "      <td>151.56</td>\n",
       "      <td>4923.0</td>\n",
       "      <td>2019_02</td>\n",
       "    </tr>\n",
       "    <tr>\n",
       "      <th>301</th>\n",
       "      <td>9.1</td>\n",
       "      <td>Drama</td>\n",
       "      <td>English</td>\n",
       "      <td>421</td>\n",
       "      <td>2019-05-31</td>\n",
       "      <td>33956</td>\n",
       "      <td>When They See Us</td>\n",
       "      <td>2</td>\n",
       "      <td>2019</td>\n",
       "      <td>151.56</td>\n",
       "      <td>4923.0</td>\n",
       "      <td>2019_02</td>\n",
       "    </tr>\n",
       "  </tbody>\n",
       "</table>\n",
       "</div>"
      ],
      "text/plain": [
       "     avg_rating            genre language  num_reviews   premiere  \\\n",
       "297         6.4           Zombie  English            1 2019-04-11   \n",
       "298         6.6             Teen  English          195 2019-04-26   \n",
       "299         7.1          Mystery  English          358 2019-05-10   \n",
       "300         6.3  Social thriller  English          329 2019-05-24   \n",
       "301         9.1            Drama  English          421 2019-05-31   \n",
       "\n",
       "     rating_count             title  quarter  year  paid_membership  \\\n",
       "297         14100      Black Summer        2  2019           151.56   \n",
       "298          5305          Chambers        2  2019           151.56   \n",
       "299         10810       The Society        2  2019           151.56   \n",
       "300          8301           What/If        2  2019           151.56   \n",
       "301         33956  When They See Us        2  2019           151.56   \n",
       "\n",
       "     quarter_revenue year_quarter  \n",
       "297           4923.0      2019_02  \n",
       "298           4923.0      2019_02  \n",
       "299           4923.0      2019_02  \n",
       "300           4923.0      2019_02  \n",
       "301           4923.0      2019_02  "
      ]
     },
     "execution_count": 600,
     "metadata": {},
     "output_type": "execute_result"
    }
   ],
   "source": [
    "infj.head()"
   ]
  },
  {
   "cell_type": "code",
   "execution_count": 603,
   "metadata": {},
   "outputs": [
    {
     "name": "stdout",
     "output_type": "stream",
     "text": [
      "<class 'numpy.int64'>\n",
      "<class 'numpy.float64'>\n",
      "<class 'numpy.int64'>\n",
      "<class 'numpy.float64'>\n",
      "<class 'numpy.float64'>\n"
     ]
    }
   ],
   "source": [
    "print(type(infj['rating_count'][1]))\n",
    "print(type(infj['avg_rating'][1]))\n",
    "print(type(infj['num_reviews'][1]))\n",
    "print(type(infj['paid_membership'][1]))\n",
    "print(type(infj['quarter_revenue'][1]))"
   ]
  },
  {
   "cell_type": "code",
   "execution_count": 604,
   "metadata": {},
   "outputs": [],
   "source": [
    "a1 = pd.DataFrame(infj.groupby('year_quarter').count()['title']).reset_index()\n",
    "# a1"
   ]
  },
  {
   "cell_type": "code",
   "execution_count": 605,
   "metadata": {},
   "outputs": [],
   "source": [
    "a2 = pd.DataFrame(infj.groupby('year_quarter').mean()['avg_rating']).reset_index()\n",
    "# a2"
   ]
  },
  {
   "cell_type": "code",
   "execution_count": 606,
   "metadata": {},
   "outputs": [],
   "source": [
    "a3 = pd.DataFrame(infj.groupby('year_quarter').mean()['paid_membership']).reset_index()\n",
    "# a3"
   ]
  },
  {
   "cell_type": "code",
   "execution_count": 730,
   "metadata": {},
   "outputs": [
    {
     "data": {
      "text/html": [
       "<div>\n",
       "<style scoped>\n",
       "    .dataframe tbody tr th:only-of-type {\n",
       "        vertical-align: middle;\n",
       "    }\n",
       "\n",
       "    .dataframe tbody tr th {\n",
       "        vertical-align: top;\n",
       "    }\n",
       "\n",
       "    .dataframe thead th {\n",
       "        text-align: right;\n",
       "    }\n",
       "</style>\n",
       "<table border=\"1\" class=\"dataframe\">\n",
       "  <thead>\n",
       "    <tr style=\"text-align: right;\">\n",
       "      <th></th>\n",
       "      <th>year_quarter</th>\n",
       "      <th>month</th>\n",
       "    </tr>\n",
       "  </thead>\n",
       "  <tbody>\n",
       "    <tr>\n",
       "      <th>0</th>\n",
       "      <td>2012_01</td>\n",
       "      <td>2.0</td>\n",
       "    </tr>\n",
       "    <tr>\n",
       "      <th>1</th>\n",
       "      <td>2012_02</td>\n",
       "      <td>6.0</td>\n",
       "    </tr>\n",
       "    <tr>\n",
       "      <th>2</th>\n",
       "      <td>2012_03</td>\n",
       "      <td>7.0</td>\n",
       "    </tr>\n",
       "    <tr>\n",
       "      <th>3</th>\n",
       "      <td>2013_01</td>\n",
       "      <td>2.0</td>\n",
       "    </tr>\n",
       "    <tr>\n",
       "      <th>4</th>\n",
       "      <td>2013_02</td>\n",
       "      <td>5.0</td>\n",
       "    </tr>\n",
       "    <tr>\n",
       "      <th>5</th>\n",
       "      <td>2013_03</td>\n",
       "      <td>7.0</td>\n",
       "    </tr>\n",
       "    <tr>\n",
       "      <th>6</th>\n",
       "      <td>2014_01</td>\n",
       "      <td>2.0</td>\n",
       "    </tr>\n",
       "    <tr>\n",
       "      <th>7</th>\n",
       "      <td>2014_02</td>\n",
       "      <td>6.0</td>\n",
       "    </tr>\n",
       "    <tr>\n",
       "      <th>8</th>\n",
       "      <td>2014_03</td>\n",
       "      <td>8.0</td>\n",
       "    </tr>\n",
       "    <tr>\n",
       "      <th>9</th>\n",
       "      <td>2014_04</td>\n",
       "      <td>12.0</td>\n",
       "    </tr>\n",
       "    <tr>\n",
       "      <th>10</th>\n",
       "      <td>2015_01</td>\n",
       "      <td>2.5</td>\n",
       "    </tr>\n",
       "    <tr>\n",
       "      <th>11</th>\n",
       "      <td>2015_02</td>\n",
       "      <td>4.0</td>\n",
       "    </tr>\n",
       "    <tr>\n",
       "      <th>12</th>\n",
       "      <td>2015_03</td>\n",
       "      <td>7.5</td>\n",
       "    </tr>\n",
       "    <tr>\n",
       "      <th>13</th>\n",
       "      <td>2015_04</td>\n",
       "      <td>11.0</td>\n",
       "    </tr>\n",
       "    <tr>\n",
       "      <th>14</th>\n",
       "      <td>2016_01</td>\n",
       "      <td>2.0</td>\n",
       "    </tr>\n",
       "    <tr>\n",
       "      <th>15</th>\n",
       "      <td>2016_02</td>\n",
       "      <td>5.0</td>\n",
       "    </tr>\n",
       "    <tr>\n",
       "      <th>16</th>\n",
       "      <td>2016_03</td>\n",
       "      <td>7.0</td>\n",
       "    </tr>\n",
       "    <tr>\n",
       "      <th>17</th>\n",
       "      <td>2016_04</td>\n",
       "      <td>11.0</td>\n",
       "    </tr>\n",
       "    <tr>\n",
       "      <th>18</th>\n",
       "      <td>2017_01</td>\n",
       "      <td>3.0</td>\n",
       "    </tr>\n",
       "    <tr>\n",
       "      <th>19</th>\n",
       "      <td>2017_02</td>\n",
       "      <td>5.0</td>\n",
       "    </tr>\n",
       "    <tr>\n",
       "      <th>20</th>\n",
       "      <td>2017_03</td>\n",
       "      <td>9.0</td>\n",
       "    </tr>\n",
       "    <tr>\n",
       "      <th>21</th>\n",
       "      <td>2017_04</td>\n",
       "      <td>11.0</td>\n",
       "    </tr>\n",
       "    <tr>\n",
       "      <th>22</th>\n",
       "      <td>2018_01</td>\n",
       "      <td>2.5</td>\n",
       "    </tr>\n",
       "    <tr>\n",
       "      <th>23</th>\n",
       "      <td>2018_02</td>\n",
       "      <td>5.0</td>\n",
       "    </tr>\n",
       "    <tr>\n",
       "      <th>24</th>\n",
       "      <td>2018_03</td>\n",
       "      <td>8.0</td>\n",
       "    </tr>\n",
       "    <tr>\n",
       "      <th>25</th>\n",
       "      <td>2018_04</td>\n",
       "      <td>11.0</td>\n",
       "    </tr>\n",
       "    <tr>\n",
       "      <th>26</th>\n",
       "      <td>2019_01</td>\n",
       "      <td>2.0</td>\n",
       "    </tr>\n",
       "    <tr>\n",
       "      <th>27</th>\n",
       "      <td>2019_02</td>\n",
       "      <td>5.0</td>\n",
       "    </tr>\n",
       "  </tbody>\n",
       "</table>\n",
       "</div>"
      ],
      "text/plain": [
       "   year_quarter  month\n",
       "0       2012_01    2.0\n",
       "1       2012_02    6.0\n",
       "2       2012_03    7.0\n",
       "3       2013_01    2.0\n",
       "4       2013_02    5.0\n",
       "5       2013_03    7.0\n",
       "6       2014_01    2.0\n",
       "7       2014_02    6.0\n",
       "8       2014_03    8.0\n",
       "9       2014_04   12.0\n",
       "10      2015_01    2.5\n",
       "11      2015_02    4.0\n",
       "12      2015_03    7.5\n",
       "13      2015_04   11.0\n",
       "14      2016_01    2.0\n",
       "15      2016_02    5.0\n",
       "16      2016_03    7.0\n",
       "17      2016_04   11.0\n",
       "18      2017_01    3.0\n",
       "19      2017_02    5.0\n",
       "20      2017_03    9.0\n",
       "21      2017_04   11.0\n",
       "22      2018_01    2.5\n",
       "23      2018_02    5.0\n",
       "24      2018_03    8.0\n",
       "25      2018_04   11.0\n",
       "26      2019_01    2.0\n",
       "27      2019_02    5.0"
      ]
     },
     "execution_count": 730,
     "metadata": {},
     "output_type": "execute_result"
    }
   ],
   "source": [
    "a4 = pd.DataFrame(infj.groupby('year_quarter').median()['month']).reset_index()\n",
    "a4"
   ]
  },
  {
   "cell_type": "code",
   "execution_count": 607,
   "metadata": {},
   "outputs": [],
   "source": [
    "inj123 = pd.merge(a1, a2, how='inner', on ='year_quarter')"
   ]
  },
  {
   "cell_type": "code",
   "execution_count": 608,
   "metadata": {},
   "outputs": [],
   "source": [
    "inj1234 = pd.merge(inj123, a3, how='inner', on ='year_quarter')"
   ]
  },
  {
   "cell_type": "code",
   "execution_count": 713,
   "metadata": {},
   "outputs": [
    {
     "ename": "MergeError",
     "evalue": "No common columns to perform merge on. Merge options: left_on=None, right_on=None, left_index=False, right_index=False",
     "output_type": "error",
     "traceback": [
      "\u001b[0;31m---------------------------------------------------------------------------\u001b[0m",
      "\u001b[0;31mMergeError\u001b[0m                                Traceback (most recent call last)",
      "\u001b[0;32m<ipython-input-713-3893375833eb>\u001b[0m in \u001b[0;36m<module>\u001b[0;34m\u001b[0m\n\u001b[0;32m----> 1\u001b[0;31m \u001b[0minj1235\u001b[0m \u001b[0;34m=\u001b[0m \u001b[0mpd\u001b[0m\u001b[0;34m.\u001b[0m\u001b[0mmerge\u001b[0m\u001b[0;34m(\u001b[0m\u001b[0minj1234\u001b[0m\u001b[0;34m,\u001b[0m \u001b[0ma4\u001b[0m\u001b[0;34m,\u001b[0m \u001b[0mhow\u001b[0m\u001b[0;34m=\u001b[0m\u001b[0;34m'outer'\u001b[0m\u001b[0;34m)\u001b[0m\u001b[0;34m\u001b[0m\u001b[0;34m\u001b[0m\u001b[0m\n\u001b[0m",
      "\u001b[0;32m~/anaconda3/lib/python3.6/site-packages/pandas/core/reshape/merge.py\u001b[0m in \u001b[0;36mmerge\u001b[0;34m(left, right, how, on, left_on, right_on, left_index, right_index, sort, suffixes, copy, indicator, validate)\u001b[0m\n\u001b[1;32m     45\u001b[0m                          \u001b[0mright_index\u001b[0m\u001b[0;34m=\u001b[0m\u001b[0mright_index\u001b[0m\u001b[0;34m,\u001b[0m \u001b[0msort\u001b[0m\u001b[0;34m=\u001b[0m\u001b[0msort\u001b[0m\u001b[0;34m,\u001b[0m \u001b[0msuffixes\u001b[0m\u001b[0;34m=\u001b[0m\u001b[0msuffixes\u001b[0m\u001b[0;34m,\u001b[0m\u001b[0;34m\u001b[0m\u001b[0;34m\u001b[0m\u001b[0m\n\u001b[1;32m     46\u001b[0m                          \u001b[0mcopy\u001b[0m\u001b[0;34m=\u001b[0m\u001b[0mcopy\u001b[0m\u001b[0;34m,\u001b[0m \u001b[0mindicator\u001b[0m\u001b[0;34m=\u001b[0m\u001b[0mindicator\u001b[0m\u001b[0;34m,\u001b[0m\u001b[0;34m\u001b[0m\u001b[0;34m\u001b[0m\u001b[0m\n\u001b[0;32m---> 47\u001b[0;31m                          validate=validate)\n\u001b[0m\u001b[1;32m     48\u001b[0m     \u001b[0;32mreturn\u001b[0m \u001b[0mop\u001b[0m\u001b[0;34m.\u001b[0m\u001b[0mget_result\u001b[0m\u001b[0;34m(\u001b[0m\u001b[0;34m)\u001b[0m\u001b[0;34m\u001b[0m\u001b[0;34m\u001b[0m\u001b[0m\n\u001b[1;32m     49\u001b[0m \u001b[0;34m\u001b[0m\u001b[0m\n",
      "\u001b[0;32m~/anaconda3/lib/python3.6/site-packages/pandas/core/reshape/merge.py\u001b[0m in \u001b[0;36m__init__\u001b[0;34m(self, left, right, how, on, left_on, right_on, axis, left_index, right_index, sort, suffixes, copy, indicator, validate)\u001b[0m\n\u001b[1;32m    522\u001b[0m             \u001b[0mwarnings\u001b[0m\u001b[0;34m.\u001b[0m\u001b[0mwarn\u001b[0m\u001b[0;34m(\u001b[0m\u001b[0mmsg\u001b[0m\u001b[0;34m,\u001b[0m \u001b[0mUserWarning\u001b[0m\u001b[0;34m)\u001b[0m\u001b[0;34m\u001b[0m\u001b[0;34m\u001b[0m\u001b[0m\n\u001b[1;32m    523\u001b[0m \u001b[0;34m\u001b[0m\u001b[0m\n\u001b[0;32m--> 524\u001b[0;31m         \u001b[0mself\u001b[0m\u001b[0;34m.\u001b[0m\u001b[0m_validate_specification\u001b[0m\u001b[0;34m(\u001b[0m\u001b[0;34m)\u001b[0m\u001b[0;34m\u001b[0m\u001b[0;34m\u001b[0m\u001b[0m\n\u001b[0m\u001b[1;32m    525\u001b[0m \u001b[0;34m\u001b[0m\u001b[0m\n\u001b[1;32m    526\u001b[0m         \u001b[0;31m# note this function has side effects\u001b[0m\u001b[0;34m\u001b[0m\u001b[0;34m\u001b[0m\u001b[0;34m\u001b[0m\u001b[0m\n",
      "\u001b[0;32m~/anaconda3/lib/python3.6/site-packages/pandas/core/reshape/merge.py\u001b[0m in \u001b[0;36m_validate_specification\u001b[0;34m(self)\u001b[0m\n\u001b[1;32m   1031\u001b[0m                         \u001b[0;34m'left_index={lidx}, right_index={ridx}'\u001b[0m\u001b[0;34m\u001b[0m\u001b[0;34m\u001b[0m\u001b[0m\n\u001b[1;32m   1032\u001b[0m                         .format(lon=self.left_on, ron=self.right_on,\n\u001b[0;32m-> 1033\u001b[0;31m                                 lidx=self.left_index, ridx=self.right_index))\n\u001b[0m\u001b[1;32m   1034\u001b[0m                 \u001b[0;32mif\u001b[0m \u001b[0;32mnot\u001b[0m \u001b[0mcommon_cols\u001b[0m\u001b[0;34m.\u001b[0m\u001b[0mis_unique\u001b[0m\u001b[0;34m:\u001b[0m\u001b[0;34m\u001b[0m\u001b[0;34m\u001b[0m\u001b[0m\n\u001b[1;32m   1035\u001b[0m                     raise MergeError(\"Data columns not unique: {common!r}\"\n",
      "\u001b[0;31mMergeError\u001b[0m: No common columns to perform merge on. Merge options: left_on=None, right_on=None, left_index=False, right_index=False"
     ]
    }
   ],
   "source": [
    "inj1235 = pd.merge(inj1234, a4, how='inner', on ='year_quarter')"
   ]
  },
  {
   "cell_type": "code",
   "execution_count": 723,
   "metadata": {},
   "outputs": [
    {
     "data": {
      "text/html": [
       "<div>\n",
       "<style scoped>\n",
       "    .dataframe tbody tr th:only-of-type {\n",
       "        vertical-align: middle;\n",
       "    }\n",
       "\n",
       "    .dataframe tbody tr th {\n",
       "        vertical-align: top;\n",
       "    }\n",
       "\n",
       "    .dataframe thead th {\n",
       "        text-align: right;\n",
       "    }\n",
       "</style>\n",
       "<table border=\"1\" class=\"dataframe\">\n",
       "  <thead>\n",
       "    <tr style=\"text-align: right;\">\n",
       "      <th></th>\n",
       "      <th>year_quarter</th>\n",
       "      <th>title</th>\n",
       "      <th>avg_rating</th>\n",
       "      <th>paid_membership</th>\n",
       "    </tr>\n",
       "  </thead>\n",
       "  <tbody>\n",
       "    <tr>\n",
       "      <th>0</th>\n",
       "      <td>2012_01</td>\n",
       "      <td>3</td>\n",
       "      <td>8.000000</td>\n",
       "      <td>24.43</td>\n",
       "    </tr>\n",
       "    <tr>\n",
       "      <th>1</th>\n",
       "      <td>2012_02</td>\n",
       "      <td>1</td>\n",
       "      <td>8.300000</td>\n",
       "      <td>25.71</td>\n",
       "    </tr>\n",
       "    <tr>\n",
       "      <th>2</th>\n",
       "      <td>2012_03</td>\n",
       "      <td>1</td>\n",
       "      <td>8.100000</td>\n",
       "      <td>27.49</td>\n",
       "    </tr>\n",
       "    <tr>\n",
       "      <th>3</th>\n",
       "      <td>2013_01</td>\n",
       "      <td>2</td>\n",
       "      <td>8.850000</td>\n",
       "      <td>34.24</td>\n",
       "    </tr>\n",
       "    <tr>\n",
       "      <th>4</th>\n",
       "      <td>2013_02</td>\n",
       "      <td>3</td>\n",
       "      <td>7.866667</td>\n",
       "      <td>35.64</td>\n",
       "    </tr>\n",
       "    <tr>\n",
       "      <th>5</th>\n",
       "      <td>2013_03</td>\n",
       "      <td>1</td>\n",
       "      <td>8.100000</td>\n",
       "      <td>38.01</td>\n",
       "    </tr>\n",
       "    <tr>\n",
       "      <th>6</th>\n",
       "      <td>2014_01</td>\n",
       "      <td>3</td>\n",
       "      <td>8.333333</td>\n",
       "      <td>46.13</td>\n",
       "    </tr>\n",
       "    <tr>\n",
       "      <th>7</th>\n",
       "      <td>2014_02</td>\n",
       "      <td>3</td>\n",
       "      <td>8.166667</td>\n",
       "      <td>47.99</td>\n",
       "    </tr>\n",
       "    <tr>\n",
       "      <th>8</th>\n",
       "      <td>2014_03</td>\n",
       "      <td>12</td>\n",
       "      <td>8.333333</td>\n",
       "      <td>50.65</td>\n",
       "    </tr>\n",
       "    <tr>\n",
       "      <th>9</th>\n",
       "      <td>2014_04</td>\n",
       "      <td>3</td>\n",
       "      <td>8.100000</td>\n",
       "      <td>54.48</td>\n",
       "    </tr>\n",
       "    <tr>\n",
       "      <th>10</th>\n",
       "      <td>2015_01</td>\n",
       "      <td>4</td>\n",
       "      <td>7.000000</td>\n",
       "      <td>59.62</td>\n",
       "    </tr>\n",
       "    <tr>\n",
       "      <th>11</th>\n",
       "      <td>2015_02</td>\n",
       "      <td>17</td>\n",
       "      <td>8.241176</td>\n",
       "      <td>62.08</td>\n",
       "    </tr>\n",
       "    <tr>\n",
       "      <th>12</th>\n",
       "      <td>2015_03</td>\n",
       "      <td>2</td>\n",
       "      <td>8.100000</td>\n",
       "      <td>66.02</td>\n",
       "    </tr>\n",
       "    <tr>\n",
       "      <th>13</th>\n",
       "      <td>2015_04</td>\n",
       "      <td>14</td>\n",
       "      <td>7.685714</td>\n",
       "      <td>70.84</td>\n",
       "    </tr>\n",
       "    <tr>\n",
       "      <th>14</th>\n",
       "      <td>2016_01</td>\n",
       "      <td>13</td>\n",
       "      <td>7.200000</td>\n",
       "      <td>77.71</td>\n",
       "    </tr>\n",
       "    <tr>\n",
       "      <th>15</th>\n",
       "      <td>2016_02</td>\n",
       "      <td>17</td>\n",
       "      <td>7.129412</td>\n",
       "      <td>79.90</td>\n",
       "    </tr>\n",
       "    <tr>\n",
       "      <th>16</th>\n",
       "      <td>2016_03</td>\n",
       "      <td>13</td>\n",
       "      <td>7.484615</td>\n",
       "      <td>83.28</td>\n",
       "    </tr>\n",
       "    <tr>\n",
       "      <th>17</th>\n",
       "      <td>2016_04</td>\n",
       "      <td>34</td>\n",
       "      <td>7.105882</td>\n",
       "      <td>89.09</td>\n",
       "    </tr>\n",
       "    <tr>\n",
       "      <th>18</th>\n",
       "      <td>2017_01</td>\n",
       "      <td>23</td>\n",
       "      <td>6.947826</td>\n",
       "      <td>94.36</td>\n",
       "    </tr>\n",
       "    <tr>\n",
       "      <th>19</th>\n",
       "      <td>2017_02</td>\n",
       "      <td>28</td>\n",
       "      <td>6.939286</td>\n",
       "      <td>99.04</td>\n",
       "    </tr>\n",
       "    <tr>\n",
       "      <th>20</th>\n",
       "      <td>2017_03</td>\n",
       "      <td>35</td>\n",
       "      <td>7.200000</td>\n",
       "      <td>104.02</td>\n",
       "    </tr>\n",
       "    <tr>\n",
       "      <th>21</th>\n",
       "      <td>2017_04</td>\n",
       "      <td>32</td>\n",
       "      <td>7.303125</td>\n",
       "      <td>110.64</td>\n",
       "    </tr>\n",
       "    <tr>\n",
       "      <th>22</th>\n",
       "      <td>2018_01</td>\n",
       "      <td>44</td>\n",
       "      <td>6.938636</td>\n",
       "      <td>118.90</td>\n",
       "    </tr>\n",
       "    <tr>\n",
       "      <th>23</th>\n",
       "      <td>2018_02</td>\n",
       "      <td>41</td>\n",
       "      <td>6.648780</td>\n",
       "      <td>124.35</td>\n",
       "    </tr>\n",
       "    <tr>\n",
       "      <th>24</th>\n",
       "      <td>2018_03</td>\n",
       "      <td>38</td>\n",
       "      <td>6.565789</td>\n",
       "      <td>130.42</td>\n",
       "    </tr>\n",
       "    <tr>\n",
       "      <th>25</th>\n",
       "      <td>2018_04</td>\n",
       "      <td>64</td>\n",
       "      <td>7.217187</td>\n",
       "      <td>139.26</td>\n",
       "    </tr>\n",
       "    <tr>\n",
       "      <th>26</th>\n",
       "      <td>2019_01</td>\n",
       "      <td>54</td>\n",
       "      <td>7.077778</td>\n",
       "      <td>148.86</td>\n",
       "    </tr>\n",
       "    <tr>\n",
       "      <th>27</th>\n",
       "      <td>2019_02</td>\n",
       "      <td>60</td>\n",
       "      <td>6.721667</td>\n",
       "      <td>151.56</td>\n",
       "    </tr>\n",
       "  </tbody>\n",
       "</table>\n",
       "</div>"
      ],
      "text/plain": [
       "   year_quarter  title  avg_rating  paid_membership\n",
       "0       2012_01      3    8.000000            24.43\n",
       "1       2012_02      1    8.300000            25.71\n",
       "2       2012_03      1    8.100000            27.49\n",
       "3       2013_01      2    8.850000            34.24\n",
       "4       2013_02      3    7.866667            35.64\n",
       "5       2013_03      1    8.100000            38.01\n",
       "6       2014_01      3    8.333333            46.13\n",
       "7       2014_02      3    8.166667            47.99\n",
       "8       2014_03     12    8.333333            50.65\n",
       "9       2014_04      3    8.100000            54.48\n",
       "10      2015_01      4    7.000000            59.62\n",
       "11      2015_02     17    8.241176            62.08\n",
       "12      2015_03      2    8.100000            66.02\n",
       "13      2015_04     14    7.685714            70.84\n",
       "14      2016_01     13    7.200000            77.71\n",
       "15      2016_02     17    7.129412            79.90\n",
       "16      2016_03     13    7.484615            83.28\n",
       "17      2016_04     34    7.105882            89.09\n",
       "18      2017_01     23    6.947826            94.36\n",
       "19      2017_02     28    6.939286            99.04\n",
       "20      2017_03     35    7.200000           104.02\n",
       "21      2017_04     32    7.303125           110.64\n",
       "22      2018_01     44    6.938636           118.90\n",
       "23      2018_02     41    6.648780           124.35\n",
       "24      2018_03     38    6.565789           130.42\n",
       "25      2018_04     64    7.217187           139.26\n",
       "26      2019_01     54    7.077778           148.86\n",
       "27      2019_02     60    6.721667           151.56"
      ]
     },
     "execution_count": 723,
     "metadata": {},
     "output_type": "execute_result"
    }
   ],
   "source": [
    "inj1234"
   ]
  },
  {
   "cell_type": "raw",
   "metadata": {},
   "source": [
    "****************************************************************************************************************"
   ]
  },
  {
   "cell_type": "code",
   "execution_count": 642,
   "metadata": {},
   "outputs": [
    {
     "data": {
      "text/html": [
       "<div>\n",
       "<style scoped>\n",
       "    .dataframe tbody tr th:only-of-type {\n",
       "        vertical-align: middle;\n",
       "    }\n",
       "\n",
       "    .dataframe tbody tr th {\n",
       "        vertical-align: top;\n",
       "    }\n",
       "\n",
       "    .dataframe thead th {\n",
       "        text-align: right;\n",
       "    }\n",
       "</style>\n",
       "<table border=\"1\" class=\"dataframe\">\n",
       "  <thead>\n",
       "    <tr style=\"text-align: right;\">\n",
       "      <th></th>\n",
       "      <th>avg_rating</th>\n",
       "      <th>genre</th>\n",
       "      <th>language</th>\n",
       "      <th>num_reviews</th>\n",
       "      <th>premiere</th>\n",
       "      <th>rating_count</th>\n",
       "      <th>title</th>\n",
       "      <th>quarter</th>\n",
       "      <th>year</th>\n",
       "      <th>paid_membership</th>\n",
       "      <th>quarter_revenue</th>\n",
       "      <th>year_quarter</th>\n",
       "    </tr>\n",
       "  </thead>\n",
       "  <tbody>\n",
       "    <tr>\n",
       "      <th>297</th>\n",
       "      <td>6.4</td>\n",
       "      <td>Zombie</td>\n",
       "      <td>English</td>\n",
       "      <td>1</td>\n",
       "      <td>2019-04-11</td>\n",
       "      <td>14100</td>\n",
       "      <td>Black Summer</td>\n",
       "      <td>2</td>\n",
       "      <td>2019</td>\n",
       "      <td>151.56</td>\n",
       "      <td>4923.0</td>\n",
       "      <td>2019_02</td>\n",
       "    </tr>\n",
       "    <tr>\n",
       "      <th>298</th>\n",
       "      <td>6.6</td>\n",
       "      <td>Teen</td>\n",
       "      <td>English</td>\n",
       "      <td>195</td>\n",
       "      <td>2019-04-26</td>\n",
       "      <td>5305</td>\n",
       "      <td>Chambers</td>\n",
       "      <td>2</td>\n",
       "      <td>2019</td>\n",
       "      <td>151.56</td>\n",
       "      <td>4923.0</td>\n",
       "      <td>2019_02</td>\n",
       "    </tr>\n",
       "    <tr>\n",
       "      <th>299</th>\n",
       "      <td>7.1</td>\n",
       "      <td>Mystery</td>\n",
       "      <td>English</td>\n",
       "      <td>358</td>\n",
       "      <td>2019-05-10</td>\n",
       "      <td>10810</td>\n",
       "      <td>The Society</td>\n",
       "      <td>2</td>\n",
       "      <td>2019</td>\n",
       "      <td>151.56</td>\n",
       "      <td>4923.0</td>\n",
       "      <td>2019_02</td>\n",
       "    </tr>\n",
       "    <tr>\n",
       "      <th>300</th>\n",
       "      <td>6.3</td>\n",
       "      <td>Social thriller</td>\n",
       "      <td>English</td>\n",
       "      <td>329</td>\n",
       "      <td>2019-05-24</td>\n",
       "      <td>8301</td>\n",
       "      <td>What/If</td>\n",
       "      <td>2</td>\n",
       "      <td>2019</td>\n",
       "      <td>151.56</td>\n",
       "      <td>4923.0</td>\n",
       "      <td>2019_02</td>\n",
       "    </tr>\n",
       "    <tr>\n",
       "      <th>301</th>\n",
       "      <td>9.1</td>\n",
       "      <td>Drama</td>\n",
       "      <td>English</td>\n",
       "      <td>421</td>\n",
       "      <td>2019-05-31</td>\n",
       "      <td>33956</td>\n",
       "      <td>When They See Us</td>\n",
       "      <td>2</td>\n",
       "      <td>2019</td>\n",
       "      <td>151.56</td>\n",
       "      <td>4923.0</td>\n",
       "      <td>2019_02</td>\n",
       "    </tr>\n",
       "  </tbody>\n",
       "</table>\n",
       "</div>"
      ],
      "text/plain": [
       "     avg_rating            genre language  num_reviews   premiere  \\\n",
       "297         6.4           Zombie  English            1 2019-04-11   \n",
       "298         6.6             Teen  English          195 2019-04-26   \n",
       "299         7.1          Mystery  English          358 2019-05-10   \n",
       "300         6.3  Social thriller  English          329 2019-05-24   \n",
       "301         9.1            Drama  English          421 2019-05-31   \n",
       "\n",
       "     rating_count             title  quarter  year  paid_membership  \\\n",
       "297         14100      Black Summer        2  2019           151.56   \n",
       "298          5305          Chambers        2  2019           151.56   \n",
       "299         10810       The Society        2  2019           151.56   \n",
       "300          8301           What/If        2  2019           151.56   \n",
       "301         33956  When They See Us        2  2019           151.56   \n",
       "\n",
       "     quarter_revenue year_quarter  \n",
       "297           4923.0      2019_02  \n",
       "298           4923.0      2019_02  \n",
       "299           4923.0      2019_02  \n",
       "300           4923.0      2019_02  \n",
       "301           4923.0      2019_02  "
      ]
     },
     "execution_count": 642,
     "metadata": {},
     "output_type": "execute_result"
    }
   ],
   "source": [
    "infj.sort_values('inception',ascending=False)"
   ]
  },
  {
   "cell_type": "code",
   "execution_count": 695,
   "metadata": {},
   "outputs": [
    {
     "data": {
      "text/html": [
       "<div>\n",
       "<style scoped>\n",
       "    .dataframe tbody tr th:only-of-type {\n",
       "        vertical-align: middle;\n",
       "    }\n",
       "\n",
       "    .dataframe tbody tr th {\n",
       "        vertical-align: top;\n",
       "    }\n",
       "\n",
       "    .dataframe thead th {\n",
       "        text-align: right;\n",
       "    }\n",
       "</style>\n",
       "<table border=\"1\" class=\"dataframe\">\n",
       "  <thead>\n",
       "    <tr style=\"text-align: right;\">\n",
       "      <th></th>\n",
       "      <th>avg_rating</th>\n",
       "      <th>genre</th>\n",
       "      <th>language</th>\n",
       "      <th>num_reviews</th>\n",
       "      <th>premiere</th>\n",
       "      <th>rating_count</th>\n",
       "      <th>title</th>\n",
       "      <th>quarter</th>\n",
       "      <th>year</th>\n",
       "      <th>paid_membership</th>\n",
       "      <th>quarter_revenue</th>\n",
       "      <th>year_quarter</th>\n",
       "      <th>month</th>\n",
       "    </tr>\n",
       "  </thead>\n",
       "  <tbody>\n",
       "    <tr>\n",
       "      <th>297</th>\n",
       "      <td>6.4</td>\n",
       "      <td>Zombie</td>\n",
       "      <td>English</td>\n",
       "      <td>1</td>\n",
       "      <td>2019-04-11</td>\n",
       "      <td>14100</td>\n",
       "      <td>Black Summer</td>\n",
       "      <td>2</td>\n",
       "      <td>2019</td>\n",
       "      <td>151.56</td>\n",
       "      <td>4923.0</td>\n",
       "      <td>2019_02</td>\n",
       "      <td>4</td>\n",
       "    </tr>\n",
       "    <tr>\n",
       "      <th>298</th>\n",
       "      <td>6.6</td>\n",
       "      <td>Teen</td>\n",
       "      <td>English</td>\n",
       "      <td>195</td>\n",
       "      <td>2019-04-26</td>\n",
       "      <td>5305</td>\n",
       "      <td>Chambers</td>\n",
       "      <td>2</td>\n",
       "      <td>2019</td>\n",
       "      <td>151.56</td>\n",
       "      <td>4923.0</td>\n",
       "      <td>2019_02</td>\n",
       "      <td>4</td>\n",
       "    </tr>\n",
       "    <tr>\n",
       "      <th>299</th>\n",
       "      <td>7.1</td>\n",
       "      <td>Mystery</td>\n",
       "      <td>English</td>\n",
       "      <td>358</td>\n",
       "      <td>2019-05-10</td>\n",
       "      <td>10810</td>\n",
       "      <td>The Society</td>\n",
       "      <td>2</td>\n",
       "      <td>2019</td>\n",
       "      <td>151.56</td>\n",
       "      <td>4923.0</td>\n",
       "      <td>2019_02</td>\n",
       "      <td>5</td>\n",
       "    </tr>\n",
       "    <tr>\n",
       "      <th>300</th>\n",
       "      <td>6.3</td>\n",
       "      <td>Social thriller</td>\n",
       "      <td>English</td>\n",
       "      <td>329</td>\n",
       "      <td>2019-05-24</td>\n",
       "      <td>8301</td>\n",
       "      <td>What/If</td>\n",
       "      <td>2</td>\n",
       "      <td>2019</td>\n",
       "      <td>151.56</td>\n",
       "      <td>4923.0</td>\n",
       "      <td>2019_02</td>\n",
       "      <td>5</td>\n",
       "    </tr>\n",
       "    <tr>\n",
       "      <th>301</th>\n",
       "      <td>9.1</td>\n",
       "      <td>Drama</td>\n",
       "      <td>English</td>\n",
       "      <td>421</td>\n",
       "      <td>2019-05-31</td>\n",
       "      <td>33956</td>\n",
       "      <td>When They See Us</td>\n",
       "      <td>2</td>\n",
       "      <td>2019</td>\n",
       "      <td>151.56</td>\n",
       "      <td>4923.0</td>\n",
       "      <td>2019_02</td>\n",
       "      <td>5</td>\n",
       "    </tr>\n",
       "  </tbody>\n",
       "</table>\n",
       "</div>"
      ],
      "text/plain": [
       "     avg_rating            genre language  num_reviews   premiere  \\\n",
       "297         6.4           Zombie  English            1 2019-04-11   \n",
       "298         6.6             Teen  English          195 2019-04-26   \n",
       "299         7.1          Mystery  English          358 2019-05-10   \n",
       "300         6.3  Social thriller  English          329 2019-05-24   \n",
       "301         9.1            Drama  English          421 2019-05-31   \n",
       "\n",
       "     rating_count             title  quarter  year  paid_membership  \\\n",
       "297         14100      Black Summer        2  2019           151.56   \n",
       "298          5305          Chambers        2  2019           151.56   \n",
       "299         10810       The Society        2  2019           151.56   \n",
       "300          8301           What/If        2  2019           151.56   \n",
       "301         33956  When They See Us        2  2019           151.56   \n",
       "\n",
       "     quarter_revenue year_quarter  month  \n",
       "297           4923.0      2019_02      4  \n",
       "298           4923.0      2019_02      4  \n",
       "299           4923.0      2019_02      5  \n",
       "300           4923.0      2019_02      5  \n",
       "301           4923.0      2019_02      5  "
      ]
     },
     "execution_count": 695,
     "metadata": {},
     "output_type": "execute_result"
    }
   ],
   "source": [
    "infj['month'] = pd.DatetimeIndex(infj['premiere']).month #infj['month'] = "
   ]
  },
  {
   "cell_type": "code",
   "execution_count": 789,
   "metadata": {},
   "outputs": [
    {
     "data": {
      "text/html": [
       "<div>\n",
       "<style scoped>\n",
       "    .dataframe tbody tr th:only-of-type {\n",
       "        vertical-align: middle;\n",
       "    }\n",
       "\n",
       "    .dataframe tbody tr th {\n",
       "        vertical-align: top;\n",
       "    }\n",
       "\n",
       "    .dataframe thead th {\n",
       "        text-align: right;\n",
       "    }\n",
       "</style>\n",
       "<table border=\"1\" class=\"dataframe\">\n",
       "  <thead>\n",
       "    <tr style=\"text-align: right;\">\n",
       "      <th></th>\n",
       "      <th>avg_rating</th>\n",
       "      <th>genre</th>\n",
       "      <th>language</th>\n",
       "      <th>num_reviews</th>\n",
       "      <th>premiere</th>\n",
       "      <th>rating_count</th>\n",
       "      <th>title</th>\n",
       "      <th>quarter</th>\n",
       "      <th>year</th>\n",
       "      <th>paid_membership</th>\n",
       "      <th>quarter_revenue</th>\n",
       "      <th>year_quarter</th>\n",
       "      <th>month</th>\n",
       "    </tr>\n",
       "  </thead>\n",
       "  <tbody>\n",
       "    <tr>\n",
       "      <th>36</th>\n",
       "      <td>8.8</td>\n",
       "      <td>Political drama</td>\n",
       "      <td>English</td>\n",
       "      <td>708</td>\n",
       "      <td>2017-05-30</td>\n",
       "      <td>433959</td>\n",
       "      <td>House of Cards</td>\n",
       "      <td>2</td>\n",
       "      <td>2017</td>\n",
       "      <td>99.04</td>\n",
       "      <td>2785.0</td>\n",
       "      <td>2017_02</td>\n",
       "      <td>5</td>\n",
       "    </tr>\n",
       "    <tr>\n",
       "      <th>329</th>\n",
       "      <td>7.9</td>\n",
       "      <td>Docu-series</td>\n",
       "      <td>English</td>\n",
       "      <td>9</td>\n",
       "      <td>2019-05-31</td>\n",
       "      <td>626</td>\n",
       "      <td>Killer Ratings</td>\n",
       "      <td>2</td>\n",
       "      <td>2019</td>\n",
       "      <td>151.56</td>\n",
       "      <td>4923.0</td>\n",
       "      <td>2019_02</td>\n",
       "      <td>5</td>\n",
       "    </tr>\n",
       "    <tr>\n",
       "      <th>187</th>\n",
       "      <td>8.1</td>\n",
       "      <td>Dark fantasy</td>\n",
       "      <td>English</td>\n",
       "      <td>153</td>\n",
       "      <td>2018-10-26</td>\n",
       "      <td>24596</td>\n",
       "      <td>Castlevania</td>\n",
       "      <td>4</td>\n",
       "      <td>2018</td>\n",
       "      <td>139.26</td>\n",
       "      <td>4187.0</td>\n",
       "      <td>2018_04</td>\n",
       "      <td>10</td>\n",
       "    </tr>\n",
       "    <tr>\n",
       "      <th>181</th>\n",
       "      <td>8.2</td>\n",
       "      <td>Comedy</td>\n",
       "      <td>English</td>\n",
       "      <td>177</td>\n",
       "      <td>2018-11-16</td>\n",
       "      <td>12133</td>\n",
       "      <td>The Kominsky Method</td>\n",
       "      <td>4</td>\n",
       "      <td>2018</td>\n",
       "      <td>139.26</td>\n",
       "      <td>4187.0</td>\n",
       "      <td>2018_04</td>\n",
       "      <td>11</td>\n",
       "    </tr>\n",
       "    <tr>\n",
       "      <th>183</th>\n",
       "      <td>5.7</td>\n",
       "      <td>Superhero</td>\n",
       "      <td>English</td>\n",
       "      <td>40</td>\n",
       "      <td>2018-11-09</td>\n",
       "      <td>1145</td>\n",
       "      <td>Super Drags</td>\n",
       "      <td>4</td>\n",
       "      <td>2018</td>\n",
       "      <td>139.26</td>\n",
       "      <td>4187.0</td>\n",
       "      <td>2018_04</td>\n",
       "      <td>11</td>\n",
       "    </tr>\n",
       "  </tbody>\n",
       "</table>\n",
       "</div>"
      ],
      "text/plain": [
       "     avg_rating            genre language  num_reviews   premiere  \\\n",
       "36          8.8  Political drama  English          708 2017-05-30   \n",
       "329         7.9      Docu-series  English            9 2019-05-31   \n",
       "187         8.1     Dark fantasy  English          153 2018-10-26   \n",
       "181         8.2           Comedy  English          177 2018-11-16   \n",
       "183         5.7        Superhero  English           40 2018-11-09   \n",
       "\n",
       "     rating_count                title  quarter  year  paid_membership  \\\n",
       "36         433959       House of Cards        2  2017            99.04   \n",
       "329           626       Killer Ratings        2  2019           151.56   \n",
       "187         24596          Castlevania        4  2018           139.26   \n",
       "181         12133  The Kominsky Method        4  2018           139.26   \n",
       "183          1145          Super Drags        4  2018           139.26   \n",
       "\n",
       "     quarter_revenue year_quarter  month  \n",
       "36            2785.0      2017_02      5  \n",
       "329           4923.0      2019_02      5  \n",
       "187           4187.0      2018_04     10  \n",
       "181           4187.0      2018_04     11  \n",
       "183           4187.0      2018_04     11  "
      ]
     },
     "execution_count": 789,
     "metadata": {},
     "output_type": "execute_result"
    }
   ],
   "source": [
    "infj.sample(5)"
   ]
  },
  {
   "cell_type": "code",
   "execution_count": 795,
   "metadata": {},
   "outputs": [
    {
     "data": {
      "text/plain": [
       "(565, 13)"
      ]
     },
     "execution_count": 795,
     "metadata": {},
     "output_type": "execute_result"
    }
   ],
   "source": [
    "infj.shape"
   ]
  },
  {
   "cell_type": "code",
   "execution_count": 735,
   "metadata": {},
   "outputs": [
    {
     "data": {
      "text/plain": [
       "Text(0.5, 1.0, 'Productive months')"
      ]
     },
     "execution_count": 735,
     "metadata": {},
     "output_type": "execute_result"
    },
    {
     "data": {
      "image/png": "[encoded data removed]",
      "text/plain": [
       "<Figure size 864x432 with 1 Axes>"
      ]
     },
     "metadata": {},
     "output_type": "display_data"
    }
   ],
   "source": [
    "#Productive months\n",
    "plt.figure(figsize=(12,6))\n",
    "infj.groupby('month')['title'].count().sort_values(ascending=True).plot.bar()\n",
    "plt.ylabel('number of released original show')\n",
    "plt.title('Productive months')"
   ]
  },
  {
   "cell_type": "code",
   "execution_count": 736,
   "metadata": {},
   "outputs": [
    {
     "data": {
      "text/plain": [
       "Text(0.5, 1.0, 'Popular months')"
      ]
     },
     "execution_count": 736,
     "metadata": {},
     "output_type": "execute_result"
    },
    {
     "data": {
      "image/png": "[encoded data removed]",
      "text/plain": [
       "<Figure size 864x432 with 1 Axes>"
      ]
     },
     "metadata": {},
     "output_type": "display_data"
    }
   ],
   "source": [
    "#find popular months\n",
    "plt.figure(figsize=(12,6))\n",
    "infj.groupby('month')['num_reviews'].median().sort_values(ascending=True).plot.bar(color='b')\n",
    "plt.ylabel('number of reviews')\n",
    "plt.title('Popular months')"
   ]
  },
  {
   "cell_type": "code",
   "execution_count": 765,
   "metadata": {},
   "outputs": [],
   "source": [
    "gr = infj.iloc[:,[1,3]].sort_values('num_reviews', ascending = False)\n",
    "# gr"
   ]
  },
  {
   "cell_type": "code",
   "execution_count": 764,
   "metadata": {},
   "outputs": [
    {
     "data": {
      "text/plain": [
       "<matplotlib.axes._subplots.AxesSubplot at 0x1348dbf28>"
      ]
     },
     "execution_count": 764,
     "metadata": {},
     "output_type": "execute_result"
    },
    {
     "data": {
      "image/png": "[encoded data removed]",
      "text/plain": [
       "<Figure size 1440x504 with 1 Axes>"
      ]
     },
     "metadata": {},
     "output_type": "display_data"
    }
   ],
   "source": [
    "#what kind of genre has most reviews?\n",
    "plt.rcParams[\"figure.figsize\"] = (20,7)\n",
    "gr.groupby('genre').mean().sort_values('num_reviews').tail(10).plot(kind='barh', color='b')"
   ]
  },
  {
   "cell_type": "raw",
   "metadata": {},
   "source": [
    "find popular months\n",
    "what kind of genre has most reviews?.."
   ]
  },
  {
   "cell_type": "raw",
   "metadata": {},
   "source": [
    "****************************************************************************************************************"
   ]
  },
  {
   "cell_type": "code",
   "execution_count": 633,
   "metadata": {},
   "outputs": [
    {
     "data": {
      "text/plain": [
       "Text(0.5, 1.0, 'Correlation between paid_membership and quarter_revenue')"
      ]
     },
     "execution_count": 633,
     "metadata": {},
     "output_type": "execute_result"
    },
    {
     "data": {
      "image/png": "[encoded data removed]",
      "text/plain": [
       "<Figure size 432x288 with 1 Axes>"
      ]
     },
     "metadata": {},
     "output_type": "display_data"
    }
   ],
   "source": [
    "# 1test. \n",
    "nice1= infj.plot.scatter('quarter_revenue','paid_membership')\n",
    "plt.xlabel(\"Quarter revenue\")\n",
    "plt.ylabel(\"Number of paid membership\")\n",
    "plt.title(\"Correlation between paid_membership and quarter_revenue\",fontsize=10)"
   ]
  },
  {
   "cell_type": "code",
   "execution_count": 787,
   "metadata": {},
   "outputs": [
    {
     "data": {
      "text/plain": [
       "Text(0.5, 0, 'quarters')"
      ]
     },
     "execution_count": 787,
     "metadata": {},
     "output_type": "execute_result"
    },
    {
     "data": {
      "image/png": "[encoded data removed]",
      "text/plain": [
       "<Figure size 1440x720 with 1 Axes>"
      ]
     },
     "metadata": {},
     "output_type": "display_data"
    }
   ],
   "source": [
    "#0. quter and revenue:\n",
    "infj.groupby('year_quarter')['quarter_revenue'].mean().sort_values(ascending=True).plot.bar(figsize=(20,10))\n",
    "plt.ylabel('quarter revenue', fontsize= 20)\n",
    "plt.title('quarter revenue',fontsize=20)\n",
    "plt.xlabel('quarters',fontsize=20)"
   ]
  },
  {
   "cell_type": "code",
   "execution_count": 786,
   "metadata": {},
   "outputs": [
    {
     "data": {
      "text/plain": [
       "Text(0.5, 0, 'quarters')"
      ]
     },
     "execution_count": 786,
     "metadata": {},
     "output_type": "execute_result"
    },
    {
     "data": {
      "image/png": "[encoded data removed]",
      "text/plain": [
       "<Figure size 1440x720 with 1 Axes>"
      ]
     },
     "metadata": {},
     "output_type": "display_data"
    }
   ],
   "source": [
    "#0 year_quarter, number of paid membership\n",
    "infj.groupby('year_quarter')['paid_membership'].mean().sort_values(ascending=True).plot.bar(figsize=(20,10))\n",
    "plt.ylabel('number of paid membership',fontsize=20)\n",
    "plt.title('number of paid membership in each quater',fontsize=20)\n",
    "plt.xlabel('quarters',fontsize=20)"
   ]
  },
  {
   "cell_type": "code",
   "execution_count": 640,
   "metadata": {},
   "outputs": [
    {
     "data": {
      "text/plain": [
       "Text(0.5, 1, 'Correlation between paid_membership and quarter_revenue')"
      ]
     },
     "execution_count": 640,
     "metadata": {},
     "output_type": "execute_result"
    },
    {
     "data": {
      "image/png": "[encoded data removed]",
      "text/plain": [
       "<Figure size 360x360 with 1 Axes>"
      ]
     },
     "metadata": {},
     "output_type": "display_data"
    }
   ],
   "source": [
    "# 1.Correlation between paid_membership and quarter_revenue\n",
    "nice = sns.lmplot(\"quarter_revenue\", \"paid_membership\", infj, palette=\"Set2\")\n",
    "nice.set_axis_labels('Quarter revenue', 'Number of paid membership')\n",
    "plt.title(\"Correlation between paid_membership and quarter_revenue\",fontsize=10)"
   ]
  },
  {
   "cell_type": "raw",
   "metadata": {},
   "source": [
    "****************************************************************************************************************"
   ]
  },
  {
   "cell_type": "code",
   "execution_count": null,
   "metadata": {},
   "outputs": [],
   "source": []
  },
  {
   "cell_type": "code",
   "execution_count": 637,
   "metadata": {},
   "outputs": [
    {
     "data": {
      "text/plain": [
       "Text(0.5, 1, 'Correlation bet num_released_original_show&paid_membership in each quarter')"
      ]
     },
     "execution_count": 637,
     "metadata": {},
     "output_type": "execute_result"
    },
    {
     "data": {
      "image/png": "[encoded data removed]",
      "text/plain": [
       "<Figure size 445.875x360 with 1 Axes>"
      ]
     },
     "metadata": {},
     "output_type": "display_data"
    }
   ],
   "source": [
    "# 2.Correlation bet num_released_show&paid_membership in each quarter:\n",
    "nice2=sns.lmplot(\"title\", \"paid_membership\", inj1234, hue=\"year_quarter\", palette=\"Set2\", fit_reg=False)#col='paid_membership'\n",
    "nice2.set_axis_labels('Number of released shows / fims', 'Number of paid membership')\n",
    "plt.title(\"Correlation bet num_released_original_show&paid_membership in each quarter\",fontsize=8)"
   ]
  },
  {
   "cell_type": "raw",
   "metadata": {},
   "source": [
    "****************************************************************************************************************"
   ]
  },
  {
   "cell_type": "code",
   "execution_count": 612,
   "metadata": {},
   "outputs": [],
   "source": [
    "# infj.groupby('year_quarter').mean()"
   ]
  },
  {
   "cell_type": "code",
   "execution_count": 613,
   "metadata": {},
   "outputs": [],
   "source": [
    "# dir(infj.groupby('year_quarter'))"
   ]
  },
  {
   "cell_type": "code",
   "execution_count": 614,
   "metadata": {},
   "outputs": [],
   "source": [
    "# infj['count'] = infj.groupby('year_quarter').count()['title'].values"
   ]
  },
  {
   "cell_type": "code",
   "execution_count": 616,
   "metadata": {},
   "outputs": [],
   "source": [
    "# infj"
   ]
  },
  {
   "cell_type": "raw",
   "metadata": {},
   "source": [
    "****************************************************************************************************************"
   ]
  },
  {
   "cell_type": "code",
   "execution_count": 650,
   "metadata": {},
   "outputs": [],
   "source": [
    "infjtest = infj.sort_values(['year','quarter'], ascending = True) #ascending"
   ]
  },
  {
   "cell_type": "code",
   "execution_count": 788,
   "metadata": {},
   "outputs": [
    {
     "data": {
      "text/plain": [
       "Text(0.5, 1, '')"
      ]
     },
     "execution_count": 788,
     "metadata": {},
     "output_type": "execute_result"
    },
    {
     "data": {
      "image/png": "[encoded data removed]",
      "text/plain": [
       "<Figure size 360x360 with 1 Axes>"
      ]
     },
     "metadata": {},
     "output_type": "display_data"
    }
   ],
   "source": [
    "# No sense bet rating_count of original shows and paid membership \n",
    "nice3 = sns.lmplot(\"rating_count\", \"paid_membership\", infjtest, palette=\"Set2\")\n",
    "# nice3.set_axis_labels('Quarter revenue', 'Number of paid membership')\n",
    "plt.title(\"\",fontsize=10)"
   ]
  },
  {
   "cell_type": "code",
   "execution_count": 679,
   "metadata": {},
   "outputs": [
    {
     "data": {
      "text/plain": [
       "<matplotlib.collections.PathCollection at 0x12dc01748>"
      ]
     },
     "execution_count": 679,
     "metadata": {},
     "output_type": "execute_result"
    },
    {
     "data": {
      "image/png": "[encoded data removed]",
      "text/plain": [
       "<Figure size 432x288 with 1 Axes>"
      ]
     },
     "metadata": {},
     "output_type": "display_data"
    }
   ],
   "source": [
    "#plt.scatter(infj['paid_membership'],infj['rating_count']) #no sense!"
   ]
  },
  {
   "cell_type": "raw",
   "metadata": {},
   "source": [
    "****************************************************************************************************************"
   ]
  },
  {
   "cell_type": "code",
   "execution_count": 653,
   "metadata": {},
   "outputs": [
    {
     "data": {
      "text/plain": [
       "<matplotlib.axes._subplots.AxesSubplot at 0x12a9df198>"
      ]
     },
     "execution_count": 653,
     "metadata": {},
     "output_type": "execute_result"
    },
    {
     "data": {
      "image/png": "[encoded data removed]",
      "text/plain": [
       "<Figure size 432x288 with 1 Axes>"
      ]
     },
     "metadata": {},
     "output_type": "display_data"
    }
   ],
   "source": [
    "# infj[['year_quarter','paid_membership']].groupby('year_quarter').count().plot.bar(color='b')"
   ]
  },
  {
   "cell_type": "code",
   "execution_count": 657,
   "metadata": {},
   "outputs": [
    {
     "data": {
      "text/plain": [
       "<seaborn.axisgrid.FacetGrid at 0x12b0be438>"
      ]
     },
     "execution_count": 657,
     "metadata": {},
     "output_type": "execute_result"
    },
    {
     "data": {
      "image/png": "[encoded data removed]",
      "text/plain": [
       "<Figure size 360x360 with 1 Axes>"
      ]
     },
     "metadata": {},
     "output_type": "display_data"
    }
   ],
   "source": [
    "sns.lmplot('rating_count', 'num_reviews',infj)"
   ]
  },
  {
   "cell_type": "code",
   "execution_count": 656,
   "metadata": {},
   "outputs": [
    {
     "data": {
      "text/plain": [
       "<seaborn.axisgrid.FacetGrid at 0x12aee5d68>"
      ]
     },
     "execution_count": 656,
     "metadata": {},
     "output_type": "execute_result"
    },
    {
     "data": {
      "image/png": "[encoded data removed]",
      "text/plain": [
       "<Figure size 360x360 with 1 Axes>"
      ]
     },
     "metadata": {},
     "output_type": "display_data"
    }
   ],
   "source": [
    "sns.lmplot('avg_rating', 'num_reviews',infj)"
   ]
  },
  {
   "cell_type": "code",
   "execution_count": 662,
   "metadata": {},
   "outputs": [
    {
     "data": {
      "text/plain": [
       "<seaborn.axisgrid.JointGrid at 0x1296ae080>"
      ]
     },
     "execution_count": 662,
     "metadata": {},
     "output_type": "execute_result"
    },
    {
     "data": {
      "image/png": "[encoded data removed]",
      "text/plain": [
       "<Figure size 432x432 with 3 Axes>"
      ]
     },
     "metadata": {},
     "output_type": "display_data"
    }
   ],
   "source": [
    "#\n",
    "sns.jointplot(infj['num_reviews'], infj['avg_rating'])"
   ]
  },
  {
   "cell_type": "code",
   "execution_count": 658,
   "metadata": {},
   "outputs": [
    {
     "data": {
      "text/plain": [
       "<seaborn.axisgrid.FacetGrid at 0x12b1e7208>"
      ]
     },
     "execution_count": 658,
     "metadata": {},
     "output_type": "execute_result"
    },
    {
     "data": {
      "image/png": "[encoded data removed]",
      "text/plain": [
       "<Figure size 360x360 with 1 Axes>"
      ]
     },
     "metadata": {},
     "output_type": "display_data"
    }
   ],
   "source": [
    "sns.lmplot('avg_rating', 'rating_count',infj)"
   ]
  },
  {
   "cell_type": "raw",
   "metadata": {},
   "source": [
    "****************************************************************************************************************"
   ]
  },
  {
   "cell_type": "code",
   "execution_count": 659,
   "metadata": {},
   "outputs": [
    {
     "data": {
      "text/plain": [
       "<matplotlib.axes._subplots.AxesSubplot at 0x12b45bcf8>"
      ]
     },
     "execution_count": 659,
     "metadata": {},
     "output_type": "execute_result"
    },
    {
     "data": {
      "image/png": "[encoded data removed]",
      "text/plain": [
       "<Figure size 432x288 with 1 Axes>"
      ]
     },
     "metadata": {},
     "output_type": "display_data"
    }
   ],
   "source": [
    "#distribution of average rating\n",
    "sns.distplot(infj['avg_rating'])\n",
    "plt.title(\"\",fontsize=10)"
   ]
  },
  {
   "cell_type": "raw",
   "metadata": {},
   "source": [
    "****************************************************************************************************************"
   ]
  },
  {
   "cell_type": "code",
   "execution_count": null,
   "metadata": {},
   "outputs": [],
   "source": [
    "#rating_count\\num_reviews\\avg_rating - paid_membership_x"
   ]
  },
  {
   "cell_type": "code",
   "execution_count": null,
   "metadata": {},
   "outputs": [],
   "source": [
    "# language frequency"
   ]
  },
  {
   "cell_type": "code",
   "execution_count": null,
   "metadata": {},
   "outputs": [],
   "source": [
    "# rating_count\\num_reviews\\avg_rating - genre"
   ]
  },
  {
   "cell_type": "raw",
   "metadata": {},
   "source": [
    "****************************************************************************************************************"
   ]
  },
  {
   "cell_type": "code",
   "execution_count": 661,
   "metadata": {},
   "outputs": [
    {
     "data": {
      "text/plain": [
       "<seaborn.axisgrid.JointGrid at 0x12b45bac8>"
      ]
     },
     "execution_count": 661,
     "metadata": {},
     "output_type": "execute_result"
    },
    {
     "data": {
      "image/png": "[encoded data removed]",
      "text/plain": [
       "<Figure size 432x432 with 3 Axes>"
      ]
     },
     "metadata": {},
     "output_type": "display_data"
    }
   ],
   "source": [
    "#same as the 1st.\n",
    "sns.jointplot(infj[\"quarter_revenue\"], infj['paid_membership'])"
   ]
  },
  {
   "cell_type": "raw",
   "metadata": {},
   "source": [
    "****************************************************************************************************************"
   ]
  },
  {
   "cell_type": "code",
   "execution_count": 773,
   "metadata": {},
   "outputs": [
    {
     "data": {
      "text/plain": [
       "Text(0.5, 1.0, 'Histogram of language')"
      ]
     },
     "execution_count": 773,
     "metadata": {},
     "output_type": "execute_result"
    },
    {
     "data": {
      "image/png": "[encoded data removed]",
      "text/plain": [
       "<Figure size 1440x504 with 1 Axes>"
      ]
     },
     "metadata": {},
     "output_type": "display_data"
    }
   ],
   "source": [
    "plt.rcParams[\"figure.figsize\"] = (20,7)\n",
    "plt.hist(infj['language'], bins=40, color=\"#5ee3ff\")\n",
    "plt.xlabel('languages') #log: normal distribution? Why do we use and when?\n",
    "plt.ylabel('count')\n",
    "plt.title('Histogram of language', fontsize=15)"
   ]
  },
  {
   "cell_type": "code",
   "execution_count": 677,
   "metadata": {},
   "outputs": [
    {
     "data": {
      "text/html": [
       "<div>\n",
       "<style scoped>\n",
       "    .dataframe tbody tr th:only-of-type {\n",
       "        vertical-align: middle;\n",
       "    }\n",
       "\n",
       "    .dataframe tbody tr th {\n",
       "        vertical-align: top;\n",
       "    }\n",
       "\n",
       "    .dataframe thead th {\n",
       "        text-align: right;\n",
       "    }\n",
       "</style>\n",
       "<table border=\"1\" class=\"dataframe\">\n",
       "  <thead>\n",
       "    <tr style=\"text-align: right;\">\n",
       "      <th></th>\n",
       "      <th>avg_rating</th>\n",
       "      <th>num_reviews</th>\n",
       "      <th>rating_count</th>\n",
       "      <th>quarter</th>\n",
       "      <th>year</th>\n",
       "      <th>paid_membership</th>\n",
       "      <th>quarter_revenue</th>\n",
       "    </tr>\n",
       "  </thead>\n",
       "  <tbody>\n",
       "    <tr>\n",
       "      <th>count</th>\n",
       "      <td>565.000000</td>\n",
       "      <td>565.000000</td>\n",
       "      <td>565.000000</td>\n",
       "      <td>565.000000</td>\n",
       "      <td>565.000000</td>\n",
       "      <td>565.000000</td>\n",
       "      <td>565.000000</td>\n",
       "    </tr>\n",
       "    <tr>\n",
       "      <th>mean</th>\n",
       "      <td>7.121770</td>\n",
       "      <td>154.769912</td>\n",
       "      <td>33034.224779</td>\n",
       "      <td>2.442478</td>\n",
       "      <td>2017.269027</td>\n",
       "      <td>112.825735</td>\n",
       "      <td>3379.126903</td>\n",
       "    </tr>\n",
       "    <tr>\n",
       "      <th>std</th>\n",
       "      <td>1.164412</td>\n",
       "      <td>200.372057</td>\n",
       "      <td>75695.313481</td>\n",
       "      <td>1.134079</td>\n",
       "      <td>1.481031</td>\n",
       "      <td>31.100952</td>\n",
       "      <td>1082.601753</td>\n",
       "    </tr>\n",
       "    <tr>\n",
       "      <th>min</th>\n",
       "      <td>3.300000</td>\n",
       "      <td>1.000000</td>\n",
       "      <td>53.000000</td>\n",
       "      <td>1.000000</td>\n",
       "      <td>2012.000000</td>\n",
       "      <td>24.430000</td>\n",
       "      <td>869.800000</td>\n",
       "    </tr>\n",
       "    <tr>\n",
       "      <th>25%</th>\n",
       "      <td>6.300000</td>\n",
       "      <td>25.000000</td>\n",
       "      <td>2124.000000</td>\n",
       "      <td>1.000000</td>\n",
       "      <td>2016.000000</td>\n",
       "      <td>89.090000</td>\n",
       "      <td>2478.000000</td>\n",
       "    </tr>\n",
       "    <tr>\n",
       "      <th>50%</th>\n",
       "      <td>7.300000</td>\n",
       "      <td>73.000000</td>\n",
       "      <td>7877.000000</td>\n",
       "      <td>2.000000</td>\n",
       "      <td>2018.000000</td>\n",
       "      <td>118.900000</td>\n",
       "      <td>3701.000000</td>\n",
       "    </tr>\n",
       "    <tr>\n",
       "      <th>75%</th>\n",
       "      <td>8.100000</td>\n",
       "      <td>192.000000</td>\n",
       "      <td>28878.000000</td>\n",
       "      <td>4.000000</td>\n",
       "      <td>2018.000000</td>\n",
       "      <td>139.260000</td>\n",
       "      <td>4187.000000</td>\n",
       "    </tr>\n",
       "    <tr>\n",
       "      <th>max</th>\n",
       "      <td>9.400000</td>\n",
       "      <td>961.000000</td>\n",
       "      <td>631000.000000</td>\n",
       "      <td>4.000000</td>\n",
       "      <td>2019.000000</td>\n",
       "      <td>151.560000</td>\n",
       "      <td>4923.000000</td>\n",
       "    </tr>\n",
       "  </tbody>\n",
       "</table>\n",
       "</div>"
      ],
      "text/plain": [
       "       avg_rating  num_reviews   rating_count     quarter         year  \\\n",
       "count  565.000000   565.000000     565.000000  565.000000   565.000000   \n",
       "mean     7.121770   154.769912   33034.224779    2.442478  2017.269027   \n",
       "std      1.164412   200.372057   75695.313481    1.134079     1.481031   \n",
       "min      3.300000     1.000000      53.000000    1.000000  2012.000000   \n",
       "25%      6.300000    25.000000    2124.000000    1.000000  2016.000000   \n",
       "50%      7.300000    73.000000    7877.000000    2.000000  2018.000000   \n",
       "75%      8.100000   192.000000   28878.000000    4.000000  2018.000000   \n",
       "max      9.400000   961.000000  631000.000000    4.000000  2019.000000   \n",
       "\n",
       "       paid_membership  quarter_revenue  \n",
       "count       565.000000       565.000000  \n",
       "mean        112.825735      3379.126903  \n",
       "std          31.100952      1082.601753  \n",
       "min          24.430000       869.800000  \n",
       "25%          89.090000      2478.000000  \n",
       "50%         118.900000      3701.000000  \n",
       "75%         139.260000      4187.000000  \n",
       "max         151.560000      4923.000000  "
      ]
     },
     "execution_count": 677,
     "metadata": {},
     "output_type": "execute_result"
    }
   ],
   "source": [
    "infj.describe()"
   ]
  },
  {
   "cell_type": "code",
   "execution_count": 167,
   "metadata": {},
   "outputs": [
    {
     "data": {
      "text/html": [
       "<div>\n",
       "<style scoped>\n",
       "    .dataframe tbody tr th:only-of-type {\n",
       "        vertical-align: middle;\n",
       "    }\n",
       "\n",
       "    .dataframe tbody tr th {\n",
       "        vertical-align: top;\n",
       "    }\n",
       "\n",
       "    .dataframe thead th {\n",
       "        text-align: right;\n",
       "    }\n",
       "</style>\n",
       "<table border=\"1\" class=\"dataframe\">\n",
       "  <thead>\n",
       "    <tr style=\"text-align: right;\">\n",
       "      <th></th>\n",
       "      <th>avg_rating</th>\n",
       "      <th>num_reviews</th>\n",
       "      <th>quarter</th>\n",
       "      <th>year</th>\n",
       "      <th>paid_membership</th>\n",
       "      <th>quarter_revenue</th>\n",
       "    </tr>\n",
       "    <tr>\n",
       "      <th>year_quarter</th>\n",
       "      <th></th>\n",
       "      <th></th>\n",
       "      <th></th>\n",
       "      <th></th>\n",
       "      <th></th>\n",
       "      <th></th>\n",
       "    </tr>\n",
       "  </thead>\n",
       "  <tbody>\n",
       "    <tr>\n",
       "      <th>2012_01</th>\n",
       "      <td>8.04</td>\n",
       "      <td>75.300000</td>\n",
       "      <td>1.0</td>\n",
       "      <td>2012.0</td>\n",
       "      <td>24.43</td>\n",
       "      <td>869.8</td>\n",
       "    </tr>\n",
       "    <tr>\n",
       "      <th>2012_02</th>\n",
       "      <td>8.30</td>\n",
       "      <td>190.000000</td>\n",
       "      <td>2.0</td>\n",
       "      <td>2012.0</td>\n",
       "      <td>25.71</td>\n",
       "      <td>889.2</td>\n",
       "    </tr>\n",
       "    <tr>\n",
       "      <th>2012_03</th>\n",
       "      <td>7.90</td>\n",
       "      <td>48.666667</td>\n",
       "      <td>3.0</td>\n",
       "      <td>2012.0</td>\n",
       "      <td>27.49</td>\n",
       "      <td>905.1</td>\n",
       "    </tr>\n",
       "    <tr>\n",
       "      <th>2012_04</th>\n",
       "      <td>5.90</td>\n",
       "      <td>49.000000</td>\n",
       "      <td>4.0</td>\n",
       "      <td>2012.0</td>\n",
       "      <td>30.36</td>\n",
       "      <td>945.2</td>\n",
       "    </tr>\n",
       "    <tr>\n",
       "      <th>2013_01</th>\n",
       "      <td>8.25</td>\n",
       "      <td>374.000000</td>\n",
       "      <td>1.0</td>\n",
       "      <td>2013.0</td>\n",
       "      <td>34.24</td>\n",
       "      <td>1024.0</td>\n",
       "    </tr>\n",
       "  </tbody>\n",
       "</table>\n",
       "</div>"
      ],
      "text/plain": [
       "              avg_rating  num_reviews  quarter    year  paid_membership  \\\n",
       "year_quarter                                                              \n",
       "2012_01             8.04    75.300000      1.0  2012.0            24.43   \n",
       "2012_02             8.30   190.000000      2.0  2012.0            25.71   \n",
       "2012_03             7.90    48.666667      3.0  2012.0            27.49   \n",
       "2012_04             5.90    49.000000      4.0  2012.0            30.36   \n",
       "2013_01             8.25   374.000000      1.0  2013.0            34.24   \n",
       "\n",
       "              quarter_revenue  \n",
       "year_quarter                   \n",
       "2012_01                 869.8  \n",
       "2012_02                 889.2  \n",
       "2012_03                 905.1  \n",
       "2012_04                 945.2  \n",
       "2013_01                1024.0  "
      ]
     },
     "execution_count": 167,
     "metadata": {},
     "output_type": "execute_result"
    }
   ],
   "source": [
    "analysis1.mean().head()"
   ]
  },
  {
   "cell_type": "code",
   "execution_count": 681,
   "metadata": {},
   "outputs": [],
   "source": [
    "# membership.to_csv('membership')"
   ]
  },
  {
   "cell_type": "code",
   "execution_count": null,
   "metadata": {},
   "outputs": [],
   "source": []
  }
 ],
 "metadata": {
  "kernelspec": {
   "display_name": "Python 3",
   "language": "python",
   "name": "python3"
  },
  "language_info": {
   "codemirror_mode": {
    "name": "ipython",
    "version": 3
   },
   "file_extension": ".py",
   "mimetype": "text/x-python",
   "name": "python",
   "nbconvert_exporter": "python",
   "pygments_lexer": "ipython3",
   "version": "3.6.8"
  }
 },
 "nbformat": 4,
 "nbformat_minor": 2
}
